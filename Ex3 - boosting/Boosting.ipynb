{
 "cells": [
  {
   "cell_type": "code",
   "execution_count": 84,
   "id": "99147636",
   "metadata": {},
   "outputs": [],
   "source": [
    "import numpy as np\n",
    "import pandas as pd\n",
    "from sklearn import datasets\n",
    "from sklearn.datasets import load_iris\n",
    "from sklearn import model_selection\n",
    "from sklearn.model_selection import train_test_split\n",
    "from sklearn.metrics import accuracy_score\n",
    "from sklearn.model_selection import cross_val_score,KFold,RepeatedKFold\n",
    "from sklearn.ensemble import AdaBoostClassifier\n",
    "from sklearn.ensemble import GradientBoostingClassifier"
   ]
  },
  {
   "cell_type": "markdown",
   "id": "1b102f4f",
   "metadata": {},
   "source": [
    "Importing the Dataset"
   ]
  },
  {
   "cell_type": "code",
   "execution_count": 77,
   "id": "89e35778",
   "metadata": {},
   "outputs": [
    {
     "data": {
      "text/html": [
       "<div>\n",
       "<style scoped>\n",
       "    .dataframe tbody tr th:only-of-type {\n",
       "        vertical-align: middle;\n",
       "    }\n",
       "\n",
       "    .dataframe tbody tr th {\n",
       "        vertical-align: top;\n",
       "    }\n",
       "\n",
       "    .dataframe thead th {\n",
       "        text-align: right;\n",
       "    }\n",
       "</style>\n",
       "<table border=\"1\" class=\"dataframe\">\n",
       "  <thead>\n",
       "    <tr style=\"text-align: right;\">\n",
       "      <th></th>\n",
       "      <th>sepal length (cm)</th>\n",
       "      <th>sepal width (cm)</th>\n",
       "      <th>petal length (cm)</th>\n",
       "      <th>petal width (cm)</th>\n",
       "      <th>target</th>\n",
       "    </tr>\n",
       "  </thead>\n",
       "  <tbody>\n",
       "    <tr>\n",
       "      <th>0</th>\n",
       "      <td>5.1</td>\n",
       "      <td>3.5</td>\n",
       "      <td>1.4</td>\n",
       "      <td>0.2</td>\n",
       "      <td>0</td>\n",
       "    </tr>\n",
       "    <tr>\n",
       "      <th>1</th>\n",
       "      <td>4.9</td>\n",
       "      <td>3.0</td>\n",
       "      <td>1.4</td>\n",
       "      <td>0.2</td>\n",
       "      <td>0</td>\n",
       "    </tr>\n",
       "    <tr>\n",
       "      <th>2</th>\n",
       "      <td>4.7</td>\n",
       "      <td>3.2</td>\n",
       "      <td>1.3</td>\n",
       "      <td>0.2</td>\n",
       "      <td>0</td>\n",
       "    </tr>\n",
       "    <tr>\n",
       "      <th>3</th>\n",
       "      <td>4.6</td>\n",
       "      <td>3.1</td>\n",
       "      <td>1.5</td>\n",
       "      <td>0.2</td>\n",
       "      <td>0</td>\n",
       "    </tr>\n",
       "    <tr>\n",
       "      <th>4</th>\n",
       "      <td>5.0</td>\n",
       "      <td>3.6</td>\n",
       "      <td>1.4</td>\n",
       "      <td>0.2</td>\n",
       "      <td>0</td>\n",
       "    </tr>\n",
       "  </tbody>\n",
       "</table>\n",
       "</div>"
      ],
      "text/plain": [
       "   sepal length (cm)  sepal width (cm)  petal length (cm)  petal width (cm)  \\\n",
       "0                5.1               3.5                1.4               0.2   \n",
       "1                4.9               3.0                1.4               0.2   \n",
       "2                4.7               3.2                1.3               0.2   \n",
       "3                4.6               3.1                1.5               0.2   \n",
       "4                5.0               3.6                1.4               0.2   \n",
       "\n",
       "   target  \n",
       "0       0  \n",
       "1       0  \n",
       "2       0  \n",
       "3       0  \n",
       "4       0  "
      ]
     },
     "execution_count": 77,
     "metadata": {},
     "output_type": "execute_result"
    }
   ],
   "source": [
    "df = pd.DataFrame(load_iris()['data'],\n",
    "columns=load_iris()['feature_names'])\n",
    "df['target'] = load_iris()['target']\n",
    "df.head()"
   ]
  },
  {
   "cell_type": "markdown",
   "id": "fba54d19",
   "metadata": {},
   "source": [
    "Splitting the dataset"
   ]
  },
  {
   "cell_type": "code",
   "execution_count": 78,
   "id": "fa8b6b8c",
   "metadata": {},
   "outputs": [],
   "source": [
    "X = df.drop(['target'],axis =1)\n",
    "y = df['target']\n",
    "X_train,X_test,y_train,y_test = train_test_split(X,y,test_size=0.3, random_state = 42)"
   ]
  },
  {
   "cell_type": "markdown",
   "id": "31cbcb8e",
   "metadata": {},
   "source": [
    "Fitting Decision tree"
   ]
  },
  {
   "cell_type": "code",
   "execution_count": 79,
   "id": "e8c6803b",
   "metadata": {},
   "outputs": [
    {
     "name": "stdout",
     "output_type": "stream",
     "text": [
      "0.9523809523809523\n",
      "Decision Tree Classifier testing accuracy: 0.9777777777777777\n"
     ]
    }
   ],
   "source": [
    "from sklearn.tree import DecisionTreeClassifier\n",
    "tree = DecisionTreeClassifier(criterion = \"entropy\",max_depth = 3)\n",
    "tree.fit(X_train,y_train)\n",
    "print(tree.score(X_train,y_train))\n",
    "y_pred=tree.predict(X_test)\n",
    "\n",
    "print(f\"Decision Tree Classifier testing accuracy: {accuracy_score(y_test,y_pred)}\")"
   ]
  },
  {
   "cell_type": "markdown",
   "id": "d9ed9587",
   "metadata": {},
   "source": [
    "Fitting the adaboostclassifier"
   ]
  },
  {
   "cell_type": "code",
   "execution_count": 80,
   "id": "e49e5bc0",
   "metadata": {},
   "outputs": [
    {
     "name": "stdout",
     "output_type": "stream",
     "text": [
      "score 1.0\n",
      "AdaBoost Classifier testing accuracy: 1.0\n"
     ]
    }
   ],
   "source": [
    "adb = AdaBoostClassifier(tree,n_estimators = 10 , learning_rate = 0.1)\n",
    "adb.fit(X_train,y_train)\n",
    "print(\"score\",adb.score(X_train,y_train))\n",
    "y_pred = adb.predict(X_test)\n",
    "print(f\"AdaBoost Classifier testing accuracy: {accuracy_score(y_test,y_pred)}\")"
   ]
  },
  {
   "cell_type": "code",
   "execution_count": 89,
   "id": "568d6ad5",
   "metadata": {},
   "outputs": [
    {
     "name": "stdout",
     "output_type": "stream",
     "text": [
      "AdaBoost Classifier Cross Validation Score:0.8764245014245015\n"
     ]
    }
   ],
   "source": [
    "ada_cv = cross_val_score(adb,X_train,y_train,cv = 4)\n",
    "print(f\"AdaBoost Classifier Cross Validation Score:{ada_cv.mean()}\")"
   ]
  },
  {
   "cell_type": "code",
   "execution_count": 90,
   "id": "aaa693c7",
   "metadata": {},
   "outputs": [
    {
     "name": "stdout",
     "output_type": "stream",
     "text": [
      "AdaBoost Classifier KFold Cross Validation Score:0.9234330484330484\n"
     ]
    }
   ],
   "source": [
    "gda_cv = cross_val_score(gdb,X_train,y_train,cv = KFold(n_splits = 4) )\n",
    "print(f\"AdaBoost Classifier KFold Cross Validation Score:{gda_cv.mean()}\")"
   ]
  },
  {
   "cell_type": "code",
   "execution_count": 88,
   "id": "d85658e7",
   "metadata": {},
   "outputs": [
    {
     "name": "stdout",
     "output_type": "stream",
     "text": [
      "Gradient Boosting Classifier RepeatedKFold Cross Validation Score:0.9143874643874643\n"
     ]
    }
   ],
   "source": [
    "gda_cv = cross_val_score(gdb,X_train,y_train,cv = RepeatedKFold(n_splits = 4) )\n",
    "print(f\"AdaBoost Classifier RepeatedKFold Cross Validation Score:{gda_cv.mean()}\")"
   ]
  },
  {
   "cell_type": "markdown",
   "id": "edf935c0",
   "metadata": {},
   "source": [
    "Fitting the Gradient Boosting Classifier"
   ]
  },
  {
   "cell_type": "code",
   "execution_count": 82,
   "id": "8ad6c340",
   "metadata": {},
   "outputs": [
    {
     "name": "stdout",
     "output_type": "stream",
     "text": [
      "score 1.0\n",
      "GradientBoost Classifier testing accuracy: 0.9555555555555556\n"
     ]
    }
   ],
   "source": [
    "gdb = GradientBoostingClassifier(init = tree,n_estimators = 10 , learning_rate = 0.1)\n",
    "gdb.fit(X_train,y_train)\n",
    "print(\"score\",gdb.score(X_train,y_train))\n",
    "y_pred = gdb.predict(X_test)\n",
    "print(f\"GradientBoost Classifier testing accuracy: {accuracy_score(y_test,y_pred)}\")"
   ]
  },
  {
   "cell_type": "code",
   "execution_count": 83,
   "id": "9281fa9a",
   "metadata": {},
   "outputs": [
    {
     "name": "stdout",
     "output_type": "stream",
     "text": [
      "Gradient Boosting Classifier Cross Validation Score:0.9045584045584045\n"
     ]
    }
   ],
   "source": [
    "gda_cv = cross_val_score(gdb,X_train,y_train,cv = 4)\n",
    "print(f\"Gradient Boosting Classifier Cross Validation Score:{gda_cv.mean()}\")"
   ]
  },
  {
   "cell_type": "code",
   "execution_count": 85,
   "id": "ccd005a1",
   "metadata": {},
   "outputs": [
    {
     "name": "stdout",
     "output_type": "stream",
     "text": [
      "Gradient Boosting Classifier KFold Cross Validation Score:0.9234330484330484\n"
     ]
    }
   ],
   "source": [
    "gda_cv = cross_val_score(gdb,X_train,y_train,cv = KFold(n_splits = 4) )\n",
    "print(f\"Gradient Boosting Classifier KFold Cross Validation Score:{gda_cv.mean()}\")"
   ]
  },
  {
   "cell_type": "code",
   "execution_count": 86,
   "id": "e637e7be",
   "metadata": {},
   "outputs": [
    {
     "name": "stdout",
     "output_type": "stream",
     "text": [
      "Gradient Boosting Classifier KFold Cross Validation Score:0.9152777777777779\n"
     ]
    }
   ],
   "source": [
    "gda_cv = cross_val_score(gdb,X_train,y_train,cv = RepeatedKFold(n_splits = 4) )\n",
    "print(f\"Gradient Boosting Classifier RepeatedKFold Cross Validation Score:{gda_cv.mean()}\")"
   ]
  },
  {
   "cell_type": "markdown",
   "id": "6eb3a1be",
   "metadata": {},
   "source": [
    "1)Since both the adaboost and gradient boosting models gives score as 1.0 for training it is obvious that the models are overfitting.Seqential learning models tends to overfit.\n",
    "\n",
    "2)The testing accuracy for adaboost is 1.0 and for gradient boosting the accuracy is 0.9555555.the metrics used is accuracy_score.\n",
    "\n",
    "3)We have done the cross-validation using cv,kfold,RepeatedKFold.The scores are\n",
    "\n",
    "                         Adaboost                     GradientBoosting\n",
    "                         \n",
    "                 CV      0.8764245014245015           0.9045584045584045\n",
    "              KFold      0.9234330484330484           0.9234330484330484\n",
    "      RepeatedKFold      0.9143874643874643           0.9152777777777779\n",
    "\n",
    " These cross validation scores tells us that the accuracies for Trainig and Testing are not accurate."
   ]
  }
 ],
 "metadata": {
  "kernelspec": {
   "display_name": "Python 3",
   "language": "python",
   "name": "python3"
  },
  "language_info": {
   "codemirror_mode": {
    "name": "ipython",
    "version": 3
   },
   "file_extension": ".py",
   "mimetype": "text/x-python",
   "name": "python",
   "nbconvert_exporter": "python",
   "pygments_lexer": "ipython3",
   "version": "3.8.3"
  }
 },
 "nbformat": 4,
 "nbformat_minor": 5
}

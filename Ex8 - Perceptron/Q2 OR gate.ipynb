{
 "cells": [
  {
   "cell_type": "code",
   "execution_count": 11,
   "id": "52ed26ec",
   "metadata": {},
   "outputs": [],
   "source": [
    "import numpy as np\n",
    "import pandas as pd\n",
    "from numpy import random ,dot\n",
    "from random import choice\n",
    "from matplotlib import pyplot as plt"
   ]
  },
  {
   "cell_type": "code",
   "execution_count": 12,
   "id": "404784d2",
   "metadata": {},
   "outputs": [],
   "source": [
    "l_rate =1\n",
    "step_function = lambda x: -1 if x<0 else 1"
   ]
  },
  {
   "cell_type": "code",
   "execution_count": 13,
   "id": "7814ae04",
   "metadata": {},
   "outputs": [
    {
     "name": "stdout",
     "output_type": "stream",
     "text": [
      "Enter X1=-1\n",
      "Enter x2=-1\n",
      "Enter Y =-1\n",
      "Enter X1=-1\n",
      "Enter x2=1\n",
      "Enter Y =1\n",
      "Enter X1=1\n",
      "Enter x2=-1\n",
      "Enter Y =1\n",
      "Enter X1=1\n",
      "Enter x2=1\n",
      "Enter Y =1\n",
      "[[[-1, -1, 1], -1], [[-1, 1, 1], 1], [[1, -1, 1], 1], [[1, 1, 1], 1]]\n"
     ]
    }
   ],
   "source": [
    "Or = []\n",
    "\n",
    "for i in range(4):\n",
    "    Or.append([[int(input('Enter X1=')),int(input('Enter x2=')),1],int(input('Enter Y ='))])\n",
    "print(Or)"
   ]
  },
  {
   "cell_type": "code",
   "execution_count": 14,
   "id": "4620cf4c",
   "metadata": {},
   "outputs": [],
   "source": [
    "weights = random.rand(3)\n",
    "error =[]\n",
    "n =100"
   ]
  },
  {
   "cell_type": "code",
   "execution_count": 15,
   "id": "75a274b2",
   "metadata": {},
   "outputs": [],
   "source": [
    "\n",
    "for j in range(n):\n",
    "  x,expected = choice(Or)\n",
    "  result = dot(weights,x)\n",
    "  err = expected - step_function(result)\n",
    "  error.append(err)\n",
    "  weights+= l_rate * dot(err,x)"
   ]
  },
  {
   "cell_type": "code",
   "execution_count": 16,
   "id": "74466037",
   "metadata": {},
   "outputs": [
    {
     "name": "stdout",
     "output_type": "stream",
     "text": [
      "[0.72930864 0.69916274 0.64320635]\n"
     ]
    }
   ],
   "source": [
    "print(weights)"
   ]
  },
  {
   "cell_type": "code",
   "execution_count": 17,
   "id": "9bc1aea6",
   "metadata": {},
   "outputs": [
    {
     "name": "stdout",
     "output_type": "stream",
     "text": [
      ">[-1, -1, 1]:-0.7852650240041623 ---- -1\n",
      ">[-1, 1, 1]:0.6130604501915657 ---- 1\n",
      ">[1, -1, 1]:0.6733522544954389 ---- 1\n",
      ">[1, 1, 1]:2.071677728691167 ---- 1\n"
     ]
    }
   ],
   "source": [
    "\n",
    "from pylab import ylim,plot\n",
    "for x,_ in Or:\n",
    "  result = dot(x,weights)\n",
    "  print(\">{}:{} ---- {}\".format(x,result,step_function(result))) \n"
   ]
  },
  {
   "cell_type": "code",
   "execution_count": 18,
   "id": "f82d6a8a",
   "metadata": {},
   "outputs": [
    {
     "data": {
      "image/png": "[encoded data removed]",
      "text/plain": [
       "<Figure size 432x288 with 1 Axes>"
      ]
     },
     "metadata": {
      "needs_background": "light"
     },
     "output_type": "display_data"
    }
   ],
   "source": [
    "ylim([-2.5,2.5])\n",
    "plot(error)\n",
    "plt.ylabel('error')\n",
    "plt.xlabel('epoch')\n",
    "plt.show()"
   ]
  },
  {
   "cell_type": "code",
   "execution_count": 19,
   "id": "5114fd67",
   "metadata": {},
   "outputs": [
    {
     "name": "stdout",
     "output_type": "stream",
     "text": [
      "[-1, -1, 1]\n"
     ]
    }
   ],
   "source": [
    "test=Or[0][0]\n",
    "print(test)"
   ]
  },
  {
   "cell_type": "code",
   "execution_count": 20,
   "id": "26074a13",
   "metadata": {},
   "outputs": [
    {
     "name": "stdout",
     "output_type": "stream",
     "text": [
      ">input[-1, -1, 1] target:-1 predicted:-1\n",
      ">input[-1, 1, 1] target:1 predicted:1\n",
      ">input[1, -1, 1] target:1 predicted:1\n",
      ">input[1, 1, 1] target:1 predicted:1\n",
      "accuracy : 1.0\n"
     ]
    }
   ],
   "source": [
    "count=0\n",
    "#checking if predicting correctly for updated weights\n",
    "for i in range(4):\n",
    "    test=  Or[i][0]\n",
    "    target= Or[i][1]\n",
    "    print(\">input{} target:{} predicted:{}\".format(test,target,step_function(dot(test,weights))))\n",
    "    if(target == step_function(dot(test,weights)) ):\n",
    "        count+=1\n",
    "print(\"accuracy :\",count/4)"
   ]
  },
  {
   "cell_type": "code",
   "execution_count": null,
   "id": "60cc05e6",
   "metadata": {},
   "outputs": [],
   "source": [
    "\n"
   ]
  }
 ],
 "metadata": {
  "kernelspec": {
   "display_name": "Python 3",
   "language": "python",
   "name": "python3"
  },
  "language_info": {
   "codemirror_mode": {
    "name": "ipython",
    "version": 3
   },
   "file_extension": ".py",
   "mimetype": "text/x-python",
   "name": "python",
   "nbconvert_exporter": "python",
   "pygments_lexer": "ipython3",
   "version": "3.8.3"
  }
 },
 "nbformat": 4,
 "nbformat_minor": 5
}

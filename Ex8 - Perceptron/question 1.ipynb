{
 "cells": [
  {
   "cell_type": "code",
   "execution_count": 1,
   "metadata": {
    "id": "NOCFd4Us-wlz"
   },
   "outputs": [],
   "source": [
    "import numpy as np\n",
    "import pandas as pd\n",
    "import sys\n",
    "from numpy import random ,dot\n",
    "from random import choice\n",
    "from matplotlib import pyplot as plt"
   ]
  },
  {
   "cell_type": "code",
   "execution_count": 2,
   "metadata": {
    "id": "Uu0NS4_K_eKc"
   },
   "outputs": [],
   "source": [
    "l_rate =1\n",
    "test =[0,-1]\n",
    "step_function = lambda x: 0 if x<0 else 1"
   ]
  },
  {
   "cell_type": "code",
   "execution_count": 3,
   "metadata": {
    "id": "df10hZ0m-2R5"
   },
   "outputs": [
    {
     "name": "stdout",
     "output_type": "stream",
     "text": [
      "Enter Size =2\n",
      "Enter X1=1\n",
      "Enter x2=1\n",
      "Enter Y =1\n",
      "Enter X1=1\n",
      "Enter x2=0\n",
      "Enter Y =1\n",
      "[[[1, 1], 1], [[1, 0], 1]]\n"
     ]
    }
   ],
   "source": [
    "data = []\n",
    "# target =[]\n",
    "for i in range(int(input('Enter Size ='))):\n",
    "    data.append([[int(input('Enter X1=')),int(input('Enter x2='))],int(input('Enter Y ='))])\n",
    "# data = np.array(data)\n",
    "print(data)"
   ]
  },
  {
   "cell_type": "code",
   "execution_count": 4,
   "metadata": {
    "id": "FgOCA_pJBZiV"
   },
   "outputs": [],
   "source": [
    "weights = random.rand(2)\n",
    "error =[]\n",
    "n =100"
   ]
  },
  {
   "cell_type": "code",
   "execution_count": 5,
   "metadata": {
    "id": "FyzvhEjXCu-F"
   },
   "outputs": [
    {
     "name": "stdout",
     "output_type": "stream",
     "text": [
      "[0.50453618 0.84235589] [1, 0]\n",
      "[0.50453618 0.84235589] [1, 0]\n",
      "[0.50453618 0.84235589] [1, 0]\n",
      "[0.50453618 0.84235589] [1, 0]\n",
      "[0.50453618 0.84235589] [1, 0]\n",
      "[0.50453618 0.84235589] [1, 1]\n",
      "[0.50453618 0.84235589] [1, 1]\n",
      "[0.50453618 0.84235589] [1, 0]\n",
      "[0.50453618 0.84235589] [1, 1]\n",
      "[0.50453618 0.84235589] [1, 1]\n",
      "[0.50453618 0.84235589] [1, 1]\n",
      "[0.50453618 0.84235589] [1, 0]\n",
      "[0.50453618 0.84235589] [1, 1]\n",
      "[0.50453618 0.84235589] [1, 0]\n",
      "[0.50453618 0.84235589] [1, 0]\n",
      "[0.50453618 0.84235589] [1, 1]\n",
      "[0.50453618 0.84235589] [1, 1]\n",
      "[0.50453618 0.84235589] [1, 0]\n",
      "[0.50453618 0.84235589] [1, 0]\n",
      "[0.50453618 0.84235589] [1, 1]\n",
      "[0.50453618 0.84235589] [1, 0]\n",
      "[0.50453618 0.84235589] [1, 0]\n",
      "[0.50453618 0.84235589] [1, 0]\n",
      "[0.50453618 0.84235589] [1, 1]\n",
      "[0.50453618 0.84235589] [1, 0]\n",
      "[0.50453618 0.84235589] [1, 1]\n",
      "[0.50453618 0.84235589] [1, 1]\n",
      "[0.50453618 0.84235589] [1, 1]\n",
      "[0.50453618 0.84235589] [1, 1]\n",
      "[0.50453618 0.84235589] [1, 0]\n",
      "[0.50453618 0.84235589] [1, 1]\n",
      "[0.50453618 0.84235589] [1, 1]\n",
      "[0.50453618 0.84235589] [1, 0]\n",
      "[0.50453618 0.84235589] [1, 1]\n",
      "[0.50453618 0.84235589] [1, 1]\n",
      "[0.50453618 0.84235589] [1, 0]\n",
      "[0.50453618 0.84235589] [1, 1]\n",
      "[0.50453618 0.84235589] [1, 0]\n",
      "[0.50453618 0.84235589] [1, 1]\n",
      "[0.50453618 0.84235589] [1, 1]\n",
      "[0.50453618 0.84235589] [1, 0]\n",
      "[0.50453618 0.84235589] [1, 0]\n",
      "[0.50453618 0.84235589] [1, 1]\n",
      "[0.50453618 0.84235589] [1, 1]\n",
      "[0.50453618 0.84235589] [1, 1]\n",
      "[0.50453618 0.84235589] [1, 0]\n",
      "[0.50453618 0.84235589] [1, 0]\n",
      "[0.50453618 0.84235589] [1, 1]\n",
      "[0.50453618 0.84235589] [1, 1]\n",
      "[0.50453618 0.84235589] [1, 1]\n",
      "[0.50453618 0.84235589] [1, 0]\n",
      "[0.50453618 0.84235589] [1, 1]\n",
      "[0.50453618 0.84235589] [1, 1]\n",
      "[0.50453618 0.84235589] [1, 1]\n",
      "[0.50453618 0.84235589] [1, 0]\n",
      "[0.50453618 0.84235589] [1, 0]\n",
      "[0.50453618 0.84235589] [1, 1]\n",
      "[0.50453618 0.84235589] [1, 1]\n",
      "[0.50453618 0.84235589] [1, 0]\n",
      "[0.50453618 0.84235589] [1, 1]\n",
      "[0.50453618 0.84235589] [1, 0]\n",
      "[0.50453618 0.84235589] [1, 0]\n",
      "[0.50453618 0.84235589] [1, 0]\n",
      "[0.50453618 0.84235589] [1, 0]\n",
      "[0.50453618 0.84235589] [1, 0]\n",
      "[0.50453618 0.84235589] [1, 0]\n",
      "[0.50453618 0.84235589] [1, 0]\n",
      "[0.50453618 0.84235589] [1, 1]\n",
      "[0.50453618 0.84235589] [1, 0]\n",
      "[0.50453618 0.84235589] [1, 0]\n",
      "[0.50453618 0.84235589] [1, 1]\n",
      "[0.50453618 0.84235589] [1, 0]\n",
      "[0.50453618 0.84235589] [1, 1]\n",
      "[0.50453618 0.84235589] [1, 1]\n",
      "[0.50453618 0.84235589] [1, 1]\n",
      "[0.50453618 0.84235589] [1, 0]\n",
      "[0.50453618 0.84235589] [1, 1]\n",
      "[0.50453618 0.84235589] [1, 0]\n",
      "[0.50453618 0.84235589] [1, 0]\n",
      "[0.50453618 0.84235589] [1, 0]\n",
      "[0.50453618 0.84235589] [1, 0]\n",
      "[0.50453618 0.84235589] [1, 0]\n",
      "[0.50453618 0.84235589] [1, 1]\n",
      "[0.50453618 0.84235589] [1, 0]\n",
      "[0.50453618 0.84235589] [1, 1]\n",
      "[0.50453618 0.84235589] [1, 1]\n",
      "[0.50453618 0.84235589] [1, 0]\n",
      "[0.50453618 0.84235589] [1, 1]\n",
      "[0.50453618 0.84235589] [1, 0]\n",
      "[0.50453618 0.84235589] [1, 1]\n",
      "[0.50453618 0.84235589] [1, 1]\n",
      "[0.50453618 0.84235589] [1, 0]\n",
      "[0.50453618 0.84235589] [1, 1]\n",
      "[0.50453618 0.84235589] [1, 0]\n",
      "[0.50453618 0.84235589] [1, 1]\n",
      "[0.50453618 0.84235589] [1, 0]\n",
      "[0.50453618 0.84235589] [1, 1]\n",
      "[0.50453618 0.84235589] [1, 0]\n",
      "[0.50453618 0.84235589] [1, 1]\n",
      "[0.50453618 0.84235589] [1, 1]\n"
     ]
    }
   ],
   "source": [
    "for j in range(n):\n",
    "    x,expected = choice(data)\n",
    "    result = dot(weights,x)\n",
    "    err = expected - step_function(result)\n",
    "    error.append(err)\n",
    "    weights+= l_rate * dot(err,x)\n",
    "\n"
   ]
  },
  {
   "cell_type": "code",
   "execution_count": 6,
   "metadata": {
    "colab": {
     "base_uri": "https://localhost:8080/"
    },
    "id": "dHJPjmNz_Gf6",
    "outputId": "910952f8-4542-4f1c-aaca-f2d149eb2441"
   },
   "outputs": [
    {
     "name": "stdout",
     "output_type": "stream",
     "text": [
      "[0.50453618 0.84235589]\n"
     ]
    }
   ],
   "source": [
    "print(weights)"
   ]
  },
  {
   "cell_type": "code",
   "execution_count": 7,
   "metadata": {
    "colab": {
     "base_uri": "https://localhost:8080/"
    },
    "id": "NdMkAREuDPfl",
    "outputId": "e4fc3bfd-1b55-416b-f54c-97dcd55c3f20"
   },
   "outputs": [
    {
     "name": "stdout",
     "output_type": "stream",
     "text": [
      ">[1, 1]:1.3468920739934238 ---- 1\n",
      ">[1, 0]:0.5045361836529656 ---- 1\n"
     ]
    }
   ],
   "source": [
    "from pylab import ylim,plot\n",
    "for x,_ in data:\n",
    "  result = dot(x,weights)\n",
    "  print(\">{}:{} ---- {}\".format(x,result,step_function(result))) "
   ]
  },
  {
   "cell_type": "code",
   "execution_count": 8,
   "metadata": {
    "id": "DtRp2OUcBtx6"
   },
   "outputs": [
    {
     "data": {
      "image/png": "[encoded data removed]",
      "text/plain": [
       "<Figure size 432x288 with 1 Axes>"
      ]
     },
     "metadata": {
      "needs_background": "light"
     },
     "output_type": "display_data"
    }
   ],
   "source": [
    "ylim([-1.5,1])\n",
    "plot(error)\n",
    "plt.show()"
   ]
  },
  {
   "cell_type": "code",
   "execution_count": 9,
   "metadata": {},
   "outputs": [
    {
     "data": {
      "text/plain": [
       "0"
      ]
     },
     "execution_count": 9,
     "metadata": {},
     "output_type": "execute_result"
    }
   ],
   "source": [
    "step_function(dot(test,weights))"
   ]
  },
  {
   "cell_type": "code",
   "execution_count": null,
   "metadata": {},
   "outputs": [],
   "source": []
  }
 ],
 "metadata": {
  "colab": {
   "collapsed_sections": [],
   "name": "SanjayKrishna-Thunai.ipynb",
   "provenance": []
  },
  "kernelspec": {
   "display_name": "Python 3",
   "language": "python",
   "name": "python3"
  },
  "language_info": {
   "codemirror_mode": {
    "name": "ipython",
    "version": 3
   },
   "file_extension": ".py",
   "mimetype": "text/x-python",
   "name": "python",
   "nbconvert_exporter": "python",
   "pygments_lexer": "ipython3",
   "version": "3.8.3"
  }
 },
 "nbformat": 4,
 "nbformat_minor": 1
}

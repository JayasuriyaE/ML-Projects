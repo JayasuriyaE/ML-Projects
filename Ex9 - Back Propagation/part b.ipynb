{
 "cells": [
  {
   "cell_type": "code",
   "execution_count": null,
   "id": "44905ea4",
   "metadata": {},
   "outputs": [],
   "source": [
    "import numpy as np\n",
    "import matplotlib.pyplot as plt\n"
   ]
  },
  {
   "cell_type": "code",
   "execution_count": null,
   "id": "51b573bb",
   "metadata": {},
   "outputs": [],
   "source": [
    "x1=0.05\n",
    "x2=0.1\n",
    "w1=0.15\n",
    "w2=0.2\n",
    "w3=0.25\n",
    "w4=0.3\n",
    "w5=0.4\n",
    "w6=0.45\n",
    "t=0.01\n",
    "l_rate=0.5\n",
    "b1 = 0.35\n",
    "b2 = 0.35\n",
    "b3=0.60"
   ]
  }
 ],
 "metadata": {
  "kernelspec": {
   "display_name": "Python 3",
   "language": "python",
   "name": "python3"
  },
  "language_info": {
   "codemirror_mode": {
    "name": "ipython",
    "version": 3
   },
   "file_extension": ".py",
   "mimetype": "text/x-python",
   "name": "python",
   "nbconvert_exporter": "python",
   "pygments_lexer": "ipython3",
   "version": "3.8.3"
  }
 },
 "nbformat": 4,
 "nbformat_minor": 5
}

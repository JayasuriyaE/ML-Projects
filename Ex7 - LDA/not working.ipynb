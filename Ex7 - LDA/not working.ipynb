{
 "cells": [
  {
   "cell_type": "code",
   "execution_count": 204,
   "id": "ab8f5ff4",
   "metadata": {},
   "outputs": [],
   "source": [
    "import pandas as pd\n",
    "import numpy as np\n",
    "from sklearn.datasets import load_iris\n",
    "from sklearn.preprocessing import LabelEncoder\n",
    "from sklearn.tree import DecisionTreeClassifier\n",
    "from sklearn.model_selection import train_test_split\n",
    "from sklearn.metrics import confusion_matrix"
   ]
  },
  {
   "cell_type": "code",
   "execution_count": 205,
   "id": "d9b919b3",
   "metadata": {},
   "outputs": [],
   "source": [
    "iris = load_iris()\n",
    "X = pd.DataFrame(iris.data, columns=iris.feature_names)\n",
    "y = pd.Categorical.from_codes(iris.target, iris.target_names)"
   ]
  },
  {
   "cell_type": "code",
   "execution_count": 206,
   "id": "00fe41c1",
   "metadata": {},
   "outputs": [
    {
     "name": "stdout",
     "output_type": "stream",
     "text": [
      "     sepal length (cm)  sepal width (cm)  petal length (cm)  petal width (cm)\n",
      "0                  5.1               3.5                1.4               0.2\n",
      "1                  4.9               3.0                1.4               0.2\n",
      "2                  4.7               3.2                1.3               0.2\n",
      "3                  4.6               3.1                1.5               0.2\n",
      "4                  5.0               3.6                1.4               0.2\n",
      "..                 ...               ...                ...               ...\n",
      "145                6.7               3.0                5.2               2.3\n",
      "146                6.3               2.5                5.0               1.9\n",
      "147                6.5               3.0                5.2               2.0\n",
      "148                6.2               3.4                5.4               2.3\n",
      "149                5.9               3.0                5.1               1.8\n",
      "\n",
      "[150 rows x 4 columns]\n",
      "['setosa', 'setosa', 'setosa', 'setosa', 'setosa', ..., 'virginica', 'virginica', 'virginica', 'virginica', 'virginica']\n",
      "Length: 150\n",
      "Categories (3, object): ['setosa', 'versicolor', 'virginica']\n"
     ]
    }
   ],
   "source": [
    "print(X)\n",
    "print(y)"
   ]
  },
  {
   "cell_type": "code",
   "execution_count": 207,
   "id": "59d95000",
   "metadata": {},
   "outputs": [
    {
     "data": {
      "text/plain": [
       "(150, 4)"
      ]
     },
     "execution_count": 207,
     "metadata": {},
     "output_type": "execute_result"
    }
   ],
   "source": [
    "X.shape"
   ]
  },
  {
   "cell_type": "code",
   "execution_count": 208,
   "id": "13080bc9",
   "metadata": {},
   "outputs": [],
   "source": [
    "df = X.join(pd.Series(y, name='class'))"
   ]
  },
  {
   "cell_type": "code",
   "execution_count": 209,
   "id": "57c86c39",
   "metadata": {},
   "outputs": [
    {
     "data": {
      "text/html": [
       "<div>\n",
       "<style scoped>\n",
       "    .dataframe tbody tr th:only-of-type {\n",
       "        vertical-align: middle;\n",
       "    }\n",
       "\n",
       "    .dataframe tbody tr th {\n",
       "        vertical-align: top;\n",
       "    }\n",
       "\n",
       "    .dataframe thead th {\n",
       "        text-align: right;\n",
       "    }\n",
       "</style>\n",
       "<table border=\"1\" class=\"dataframe\">\n",
       "  <thead>\n",
       "    <tr style=\"text-align: right;\">\n",
       "      <th></th>\n",
       "      <th>sepal length (cm)</th>\n",
       "      <th>sepal width (cm)</th>\n",
       "      <th>petal length (cm)</th>\n",
       "      <th>petal width (cm)</th>\n",
       "      <th>class</th>\n",
       "    </tr>\n",
       "  </thead>\n",
       "  <tbody>\n",
       "    <tr>\n",
       "      <th>0</th>\n",
       "      <td>5.1</td>\n",
       "      <td>3.5</td>\n",
       "      <td>1.4</td>\n",
       "      <td>0.2</td>\n",
       "      <td>setosa</td>\n",
       "    </tr>\n",
       "    <tr>\n",
       "      <th>1</th>\n",
       "      <td>4.9</td>\n",
       "      <td>3.0</td>\n",
       "      <td>1.4</td>\n",
       "      <td>0.2</td>\n",
       "      <td>setosa</td>\n",
       "    </tr>\n",
       "    <tr>\n",
       "      <th>2</th>\n",
       "      <td>4.7</td>\n",
       "      <td>3.2</td>\n",
       "      <td>1.3</td>\n",
       "      <td>0.2</td>\n",
       "      <td>setosa</td>\n",
       "    </tr>\n",
       "    <tr>\n",
       "      <th>3</th>\n",
       "      <td>4.6</td>\n",
       "      <td>3.1</td>\n",
       "      <td>1.5</td>\n",
       "      <td>0.2</td>\n",
       "      <td>setosa</td>\n",
       "    </tr>\n",
       "    <tr>\n",
       "      <th>4</th>\n",
       "      <td>5.0</td>\n",
       "      <td>3.6</td>\n",
       "      <td>1.4</td>\n",
       "      <td>0.2</td>\n",
       "      <td>setosa</td>\n",
       "    </tr>\n",
       "    <tr>\n",
       "      <th>...</th>\n",
       "      <td>...</td>\n",
       "      <td>...</td>\n",
       "      <td>...</td>\n",
       "      <td>...</td>\n",
       "      <td>...</td>\n",
       "    </tr>\n",
       "    <tr>\n",
       "      <th>145</th>\n",
       "      <td>6.7</td>\n",
       "      <td>3.0</td>\n",
       "      <td>5.2</td>\n",
       "      <td>2.3</td>\n",
       "      <td>virginica</td>\n",
       "    </tr>\n",
       "    <tr>\n",
       "      <th>146</th>\n",
       "      <td>6.3</td>\n",
       "      <td>2.5</td>\n",
       "      <td>5.0</td>\n",
       "      <td>1.9</td>\n",
       "      <td>virginica</td>\n",
       "    </tr>\n",
       "    <tr>\n",
       "      <th>147</th>\n",
       "      <td>6.5</td>\n",
       "      <td>3.0</td>\n",
       "      <td>5.2</td>\n",
       "      <td>2.0</td>\n",
       "      <td>virginica</td>\n",
       "    </tr>\n",
       "    <tr>\n",
       "      <th>148</th>\n",
       "      <td>6.2</td>\n",
       "      <td>3.4</td>\n",
       "      <td>5.4</td>\n",
       "      <td>2.3</td>\n",
       "      <td>virginica</td>\n",
       "    </tr>\n",
       "    <tr>\n",
       "      <th>149</th>\n",
       "      <td>5.9</td>\n",
       "      <td>3.0</td>\n",
       "      <td>5.1</td>\n",
       "      <td>1.8</td>\n",
       "      <td>virginica</td>\n",
       "    </tr>\n",
       "  </tbody>\n",
       "</table>\n",
       "<p>150 rows × 5 columns</p>\n",
       "</div>"
      ],
      "text/plain": [
       "     sepal length (cm)  sepal width (cm)  petal length (cm)  petal width (cm)  \\\n",
       "0                  5.1               3.5                1.4               0.2   \n",
       "1                  4.9               3.0                1.4               0.2   \n",
       "2                  4.7               3.2                1.3               0.2   \n",
       "3                  4.6               3.1                1.5               0.2   \n",
       "4                  5.0               3.6                1.4               0.2   \n",
       "..                 ...               ...                ...               ...   \n",
       "145                6.7               3.0                5.2               2.3   \n",
       "146                6.3               2.5                5.0               1.9   \n",
       "147                6.5               3.0                5.2               2.0   \n",
       "148                6.2               3.4                5.4               2.3   \n",
       "149                5.9               3.0                5.1               1.8   \n",
       "\n",
       "         class  \n",
       "0       setosa  \n",
       "1       setosa  \n",
       "2       setosa  \n",
       "3       setosa  \n",
       "4       setosa  \n",
       "..         ...  \n",
       "145  virginica  \n",
       "146  virginica  \n",
       "147  virginica  \n",
       "148  virginica  \n",
       "149  virginica  \n",
       "\n",
       "[150 rows x 5 columns]"
      ]
     },
     "execution_count": 209,
     "metadata": {},
     "output_type": "execute_result"
    }
   ],
   "source": [
    "df"
   ]
  },
  {
   "cell_type": "code",
   "execution_count": 210,
   "id": "527059c0",
   "metadata": {},
   "outputs": [
    {
     "data": {
      "text/html": [
       "<div>\n",
       "<style scoped>\n",
       "    .dataframe tbody tr th:only-of-type {\n",
       "        vertical-align: middle;\n",
       "    }\n",
       "\n",
       "    .dataframe tbody tr th {\n",
       "        vertical-align: top;\n",
       "    }\n",
       "\n",
       "    .dataframe thead th {\n",
       "        text-align: right;\n",
       "    }\n",
       "</style>\n",
       "<table border=\"1\" class=\"dataframe\">\n",
       "  <thead>\n",
       "    <tr style=\"text-align: right;\">\n",
       "      <th></th>\n",
       "      <th>setosa</th>\n",
       "      <th>versicolor</th>\n",
       "      <th>virginica</th>\n",
       "    </tr>\n",
       "  </thead>\n",
       "  <tbody>\n",
       "    <tr>\n",
       "      <th>sepal length (cm)</th>\n",
       "      <td>5.006</td>\n",
       "      <td>5.936</td>\n",
       "      <td>6.588</td>\n",
       "    </tr>\n",
       "    <tr>\n",
       "      <th>sepal width (cm)</th>\n",
       "      <td>3.428</td>\n",
       "      <td>2.770</td>\n",
       "      <td>2.974</td>\n",
       "    </tr>\n",
       "    <tr>\n",
       "      <th>petal length (cm)</th>\n",
       "      <td>1.462</td>\n",
       "      <td>4.260</td>\n",
       "      <td>5.552</td>\n",
       "    </tr>\n",
       "    <tr>\n",
       "      <th>petal width (cm)</th>\n",
       "      <td>0.246</td>\n",
       "      <td>1.326</td>\n",
       "      <td>2.026</td>\n",
       "    </tr>\n",
       "  </tbody>\n",
       "</table>\n",
       "</div>"
      ],
      "text/plain": [
       "                   setosa  versicolor  virginica\n",
       "sepal length (cm)   5.006       5.936      6.588\n",
       "sepal width (cm)    3.428       2.770      2.974\n",
       "petal length (cm)   1.462       4.260      5.552\n",
       "petal width (cm)    0.246       1.326      2.026"
      ]
     },
     "execution_count": 210,
     "metadata": {},
     "output_type": "execute_result"
    }
   ],
   "source": [
    "class_feature_means = pd.DataFrame(columns=iris.target_names)\n",
    "for c, rows in df.groupby('class'):\n",
    "    class_feature_means[c] = rows.mean()\n",
    "class_feature_means"
   ]
  },
  {
   "cell_type": "code",
   "execution_count": 211,
   "id": "1c93e9e7",
   "metadata": {},
   "outputs": [
    {
     "name": "stdout",
     "output_type": "stream",
     "text": [
      "[[588.2732 140.8686 451.7852  62.6338]\n",
      " [140.8686 140.4603 105.7746  63.2599]\n",
      " [451.7852 105.7746 442.0604  71.995 ]\n",
      " [ 62.6338  63.2599  71.995   89.2099]]\n"
     ]
    }
   ],
   "source": [
    "within_class_scatter_matrix = np.zeros((4,4))\n",
    "for c, rows in df.groupby('class'):\n",
    "    rows = rows.drop(['class'], axis=1)\n",
    "    s = np.zeros((4,4))\n",
    "for index, row in rows.iterrows():\n",
    "    x, mc = row.values.reshape(4,1), class_feature_means[c].values.reshape(4,1)\n",
    "    s += (x - mc).dot((x - mc).T)\n",
    "    within_class_scatter_matrix += s\n",
    "print(within_class_scatter_matrix)"
   ]
  },
  {
   "cell_type": "code",
   "execution_count": 212,
   "id": "47db9298",
   "metadata": {},
   "outputs": [
    {
     "name": "stdout",
     "output_type": "stream",
     "text": [
      "[[ 63.21213333 -19.95266667 165.2484      71.27933333]\n",
      " [-19.95266667  11.34493333 -57.2396     -22.93266667]\n",
      " [165.2484     -57.2396     437.1028     186.774     ]\n",
      " [ 71.27933333 -22.93266667 186.774       80.41333333]]\n"
     ]
    }
   ],
   "source": [
    "feature_means = df.mean()\n",
    "between_class_scatter_matrix = np.zeros((4,4))\n",
    "for c in class_feature_means:    \n",
    "    n = len(df.loc[df['class'] == c].index)\n",
    "    mc, m = class_feature_means[c].values.reshape(4,1), feature_means.values.reshape(4,1)\n",
    "    between_class_scatter_matrix += n * (mc - m).dot((mc - m).T)\n",
    "print(between_class_scatter_matrix)"
   ]
  },
  {
   "cell_type": "code",
   "execution_count": 213,
   "id": "8df1526f",
   "metadata": {},
   "outputs": [],
   "source": [
    "eigen_values, eigen_vectors = np.linalg.eig(np.linalg.inv(within_class_scatter_matrix).dot(between_class_scatter_matrix))"
   ]
  },
  {
   "cell_type": "code",
   "execution_count": 214,
   "id": "06d82845",
   "metadata": {},
   "outputs": [
    {
     "name": "stdout",
     "output_type": "stream",
     "text": [
      "\n",
      "Eigenvector 1: \n",
      "[[-0.34775603]\n",
      " [-0.45247827]\n",
      " [ 0.59991143]\n",
      " [ 0.56074543]]\n",
      "Eigenvalue 1: 3.33e+00\n",
      "\n",
      "Eigenvector 2: \n",
      "[[ 0.04493799]\n",
      " [-0.86758755]\n",
      " [ 0.07406326]\n",
      " [-0.48968057]]\n",
      "Eigenvalue 2: 2.70e-02\n",
      "\n",
      "Eigenvector 3: \n",
      "[[-0.02496238]\n",
      " [-0.23708424]\n",
      " [-0.28897521]\n",
      " [ 0.62570947]]\n",
      "Eigenvalue 3: -2.03e-16\n",
      "\n",
      "Eigenvector 4: \n",
      "[[-0.02496238]\n",
      " [-0.23708424]\n",
      " [-0.28897521]\n",
      " [ 0.62570947]]\n",
      "Eigenvalue 4: -2.03e-16\n"
     ]
    }
   ],
   "source": [
    "for i in range(len(eigen_values)):\n",
    "    eigvec_sc = eigen_vectors[:,i].reshape(4,1)   \n",
    "    print('\\nEigenvector {}: \\n{}'.format(i+1, eigvec_sc.real))\n",
    "    print('Eigenvalue {:}: {:.2e}'.format(i+1, eigen_values[i].real))"
   ]
  },
  {
   "cell_type": "code",
   "execution_count": 215,
   "id": "98d01a0e",
   "metadata": {},
   "outputs": [],
   "source": [
    "for i in range(len(eigen_values)):\n",
    "    eigv = eigen_vectors[:,i].reshape(4,1)\n",
    "    np.testing.assert_array_almost_equal(np.linalg.inv(within_class_scatter_matrix).dot(between_class_scatter_matrix).dot(eigv),\n",
    "                                         eigen_values[i] * eigv,\n",
    "                                         decimal=6, err_msg='', verbose=True)\n",
    "#print('ok')"
   ]
  },
  {
   "cell_type": "code",
   "execution_count": 216,
   "id": "f9a4190f",
   "metadata": {},
   "outputs": [
    {
     "name": "stdout",
     "output_type": "stream",
     "text": [
      "Eigenvalues in decreasing order:\n",
      "\n",
      "3.3340137930233347\n",
      "0.027034739042874168\n",
      "3.379438918053471e-16\n",
      "3.379438918053471e-16\n"
     ]
    }
   ],
   "source": [
    "# Make a list of (eigenvalue, eigenvector) tuples\n",
    "eig_pairs = [(np.abs(eigen_values[i]), eigen_vectors[:,i]) for i in range(len(eigen_values))]\n",
    "\n",
    "# Sort the (eigenvalue, eigenvector) tuples from high to low\n",
    "eig_pairs = sorted(eig_pairs, key=lambda k: k[0], reverse=True)\n",
    "\n",
    "# Visually confirm that the list is correctly sorted by decreasing eigenvalues\n",
    "\n",
    "print('Eigenvalues in decreasing order:\\n')\n",
    "for i in eig_pairs:\n",
    "    print(i[0])"
   ]
  },
  {
   "cell_type": "code",
   "execution_count": 217,
   "id": "8a2e1702",
   "metadata": {},
   "outputs": [
    {
     "name": "stdout",
     "output_type": "stream",
     "text": [
      "Variance explained:\n",
      "\n",
      "eigenvalue 1: 99.20%\n",
      "eigenvalue 2: 0.80%\n",
      "eigenvalue 3: 0.00%\n",
      "eigenvalue 4: 0.00%\n"
     ]
    }
   ],
   "source": [
    "print('Variance explained:\\n')\n",
    "eigv_sum = sum(eigen_values)\n",
    "for i,j in enumerate(eig_pairs):\n",
    "    print('eigenvalue {0:}: {1:.2%}'.format(i+1, (j[0]/eigv_sum).real))"
   ]
  },
  {
   "cell_type": "code",
   "execution_count": 218,
   "id": "8da3bad0",
   "metadata": {},
   "outputs": [
    {
     "name": "stdout",
     "output_type": "stream",
     "text": [
      "Matrix W:\n",
      " [[-0.34775603  0.04493799]\n",
      " [-0.45247827 -0.86758755]\n",
      " [ 0.59991143  0.07406326]\n",
      " [ 0.56074543 -0.48968057]]\n"
     ]
    }
   ],
   "source": [
    "W = np.hstack((eig_pairs[0][1].reshape(4,1), eig_pairs[1][1].reshape(4,1)))\n",
    "print('Matrix W:\\n', W.real)"
   ]
  },
  {
   "cell_type": "code",
   "execution_count": 219,
   "id": "fea341ed",
   "metadata": {},
   "outputs": [
    {
     "name": "stdout",
     "output_type": "stream",
     "text": [
      "                      0                   1\n",
      "0   -2.405205+0.000000j -2.801620+0.000000j\n",
      "1   -2.109414+0.000000j -2.376814+0.000000j\n",
      "2   -2.190350+0.000000j -2.566725+0.000000j\n",
      "3   -1.990344+0.000000j -2.469648+0.000000j\n",
      "4   -2.415677+0.000000j -2.892873+0.000000j\n",
      "..                  ...                 ...\n",
      "145  0.721854+0.000000j -3.042814+0.000000j\n",
      "146  0.742915+0.000000j -2.445936+0.000000j\n",
      "147  0.623181+0.000000j -2.904898+0.000000j\n",
      "148  0.834723+0.000000j -3.397506+0.000000j\n",
      "149  0.659695+0.000000j -2.841331+0.000000j\n",
      "\n",
      "[150 rows x 2 columns]\n",
      "<class 'pandas.core.frame.DataFrame'>\n"
     ]
    }
   ],
   "source": [
    "X_lda = X.dot(W)\n",
    "assert X_lda.shape == (150,2)\n",
    "print(X_lda)\n",
    "print(type(X_lda))\n",
    "X_lda = X_lda.to_numpy()"
   ]
  },
  {
   "cell_type": "code",
   "execution_count": 222,
   "id": "8d0156a6",
   "metadata": {},
   "outputs": [
    {
     "name": "stdout",
     "output_type": "stream",
     "text": [
      "[-2.4052046 +0.j -2.10941426+0.j -2.19034985+0.j -1.99034414+0.j\n",
      " -2.41567683+0.j -2.3984002 +0.j -2.13000422+0.j -2.26519003+0.j\n",
      " -1.89028842+0.j -2.15074549+0.j -2.54003592+0.j -2.13564768+0.j\n",
      " -2.1307132 +0.j -2.13680862+0.j -2.99485525+0.j -2.84894843+0.j\n",
      " -2.63836478+0.j -2.34913006+0.j -2.51355373+0.j -2.4248824 +0.j\n",
      " -2.28431016+0.j -2.32356003+0.j -2.51653899+0.j -1.96651189+0.j\n",
      " -1.95567425+0.j -2.02420758+0.j -2.0930498 +0.j -2.37998906+0.j\n",
      " -2.39473238+0.j -2.01037642+0.j -1.9999042 +0.j -2.29214336+0.j\n",
      " -2.70755057+0.j -2.8610418 +0.j -2.09467095+0.j -2.35466781+0.j\n",
      " -2.60429816+0.j -2.43697577+0.j -1.99552739+0.j -2.29996563+0.j\n",
      " -2.3743456 +0.j -1.65749367+0.j -2.08602304+0.j -2.02614854+0.j\n",
      " -2.12884328+0.j -2.01856412+0.j -2.4209658 +0.j -2.09558311+0.j\n",
      " -2.50526032+0.j -2.27993335+0.j -0.27759535+0.j -0.13284947+0.j\n",
      " -0.02151509+0.j  0.1752566 +0.j  0.07335738+0.j  0.17942197+0.j\n",
      "  0.03273514+0.j -0.24949924+0.j -0.11881514+0.j  0.0946755 +0.j\n",
      "  0.01669875+0.j -0.04844923+0.j -0.12159722+0.j  0.17112856+0.j\n",
      " -0.37097054+0.j -0.30799414+0.j  0.23585101+0.j -0.218294  +0.j\n",
      "  0.38918   +0.j -0.12215489+0.j  0.3892256 +0.j -0.25963616+0.j\n",
      "  0.45862549+0.j  0.1042273 +0.j -0.22923736+0.j -0.22797071+0.j\n",
      "  0.03293831+0.j  0.26542418+0.j  0.14199642+0.j -0.49821743+0.j\n",
      " -0.1021226 +0.j -0.21818829+0.j -0.22612721+0.j  0.64851348+0.j\n",
      "  0.30540222+0.j -0.02816817+0.j -0.07194617+0.j  0.13701634+0.j\n",
      " -0.11626265+0.j  0.08476094+0.j  0.22340315+0.j  0.06588959+0.j\n",
      " -0.12088824+0.j -0.23902702+0.j  0.07947197+0.j -0.14712165+0.j\n",
      " -0.04579928+0.j -0.15968616+0.j -0.48819716+0.j -0.0605426 +0.j\n",
      "  1.31729088+0.j  0.88628831+0.j  0.89054022+0.j  0.86579582+0.j\n",
      "  1.09527724+0.j  1.13660021+0.j  0.81766845+0.j  0.93797779+0.j\n",
      "  1.027667  +0.j  0.92855812+0.j  0.4726945 +0.j  0.79761698+0.j\n",
      "  0.75490246+0.j  1.00764297+0.j  1.1214132 +0.j  0.79567602+0.j\n",
      "  0.69100564+0.j  0.85590768+0.j  1.57493843+0.j  0.75868692+0.j\n",
      "  0.86176257+0.j  0.84668395+0.j  1.19623686+0.j  0.53635347+0.j\n",
      "  0.77391687+0.j  0.65703648+0.j  0.4658901 +0.j  0.47016119+0.j\n",
      "  1.04449167+0.j  0.51540076+0.j  0.88454227+0.j  0.49423396+0.j\n",
      "  1.10056621+0.j  0.4428643 +0.j  0.84679233+0.j  0.91401797+0.j\n",
      "  0.97600394+0.j  0.68053342+0.j  0.44494565+0.j  0.61488789+0.j\n",
      "  0.97264501+0.j  0.54706354+0.j  0.88628831+0.j  1.01652046+0.j\n",
      "  0.99821504+0.j  0.72185372+0.j  0.74291481+0.j  0.6231813 +0.j\n",
      "  0.83472271+0.j  0.65969469+0.j]\n",
      "[-2.4052046 +0.j -2.10941426+0.j -2.19034985+0.j -1.99034414+0.j\n",
      " -2.41567683+0.j -2.3984002 +0.j -2.13000422+0.j -2.26519003+0.j\n",
      " -1.89028842+0.j -2.15074549+0.j -2.54003592+0.j -2.13564768+0.j\n",
      " -2.1307132 +0.j -2.13680862+0.j -2.99485525+0.j -2.84894843+0.j\n",
      " -2.63836478+0.j -2.34913006+0.j -2.51355373+0.j -2.4248824 +0.j\n",
      " -2.28431016+0.j -2.32356003+0.j -2.51653899+0.j -1.96651189+0.j\n",
      " -1.95567425+0.j -2.02420758+0.j -2.0930498 +0.j -2.37998906+0.j\n",
      " -2.39473238+0.j -2.01037642+0.j -1.9999042 +0.j -2.29214336+0.j\n",
      " -2.70755057+0.j -2.8610418 +0.j -2.09467095+0.j -2.35466781+0.j\n",
      " -2.60429816+0.j -2.43697577+0.j -1.99552739+0.j -2.29996563+0.j\n",
      " -2.3743456 +0.j -1.65749367+0.j -2.08602304+0.j -2.02614854+0.j\n",
      " -2.12884328+0.j -2.01856412+0.j -2.4209658 +0.j -2.09558311+0.j\n",
      " -2.50526032+0.j -2.27993335+0.j -0.27759535+0.j -0.13284947+0.j\n",
      " -0.02151509+0.j  0.1752566 +0.j  0.07335738+0.j  0.17942197+0.j\n",
      "  0.03273514+0.j -0.24949924+0.j -0.11881514+0.j  0.0946755 +0.j\n",
      "  0.01669875+0.j -0.04844923+0.j -0.12159722+0.j  0.17112856+0.j\n",
      " -0.37097054+0.j -0.30799414+0.j  0.23585101+0.j -0.218294  +0.j\n",
      "  0.38918   +0.j -0.12215489+0.j  0.3892256 +0.j -0.25963616+0.j\n",
      "  0.45862549+0.j  0.1042273 +0.j -0.22923736+0.j -0.22797071+0.j\n",
      "  0.03293831+0.j  0.26542418+0.j  0.14199642+0.j -0.49821743+0.j\n",
      " -0.1021226 +0.j -0.21818829+0.j -0.22612721+0.j  0.64851348+0.j\n",
      "  0.30540222+0.j -0.02816817+0.j -0.07194617+0.j  0.13701634+0.j\n",
      " -0.11626265+0.j  0.08476094+0.j  0.22340315+0.j  0.06588959+0.j\n",
      " -0.12088824+0.j -0.23902702+0.j  0.07947197+0.j -0.14712165+0.j\n",
      " -0.04579928+0.j -0.15968616+0.j -0.48819716+0.j -0.0605426 +0.j\n",
      "  1.31729088+0.j  0.88628831+0.j  0.89054022+0.j  0.86579582+0.j\n",
      "  1.09527724+0.j  1.13660021+0.j  0.81766845+0.j  0.93797779+0.j\n",
      "  1.027667  +0.j  0.92855812+0.j  0.4726945 +0.j  0.79761698+0.j\n",
      "  0.75490246+0.j  1.00764297+0.j  1.1214132 +0.j  0.79567602+0.j\n",
      "  0.69100564+0.j  0.85590768+0.j  1.57493843+0.j  0.75868692+0.j\n",
      "  0.86176257+0.j  0.84668395+0.j  1.19623686+0.j  0.53635347+0.j\n",
      "  0.77391687+0.j  0.65703648+0.j  0.4658901 +0.j  0.47016119+0.j\n",
      "  1.04449167+0.j  0.51540076+0.j  0.88454227+0.j  0.49423396+0.j\n",
      "  1.10056621+0.j  0.4428643 +0.j  0.84679233+0.j  0.91401797+0.j\n",
      "  0.97600394+0.j  0.68053342+0.j  0.44494565+0.j  0.61488789+0.j\n",
      "  0.97264501+0.j  0.54706354+0.j  0.88628831+0.j  1.01652046+0.j\n",
      "  0.99821504+0.j  0.72185372+0.j  0.74291481+0.j  0.6231813 +0.j\n",
      "  0.83472271+0.j  0.65969469+0.j]\n",
      "[-2.4052046 +0.j -2.10941426+0.j -2.19034985+0.j -1.99034414+0.j\n",
      " -2.41567683+0.j -2.3984002 +0.j -2.13000422+0.j -2.26519003+0.j\n",
      " -1.89028842+0.j -2.15074549+0.j -2.54003592+0.j -2.13564768+0.j\n",
      " -2.1307132 +0.j -2.13680862+0.j -2.99485525+0.j -2.84894843+0.j\n",
      " -2.63836478+0.j -2.34913006+0.j -2.51355373+0.j -2.4248824 +0.j\n",
      " -2.28431016+0.j -2.32356003+0.j -2.51653899+0.j -1.96651189+0.j\n",
      " -1.95567425+0.j -2.02420758+0.j -2.0930498 +0.j -2.37998906+0.j\n",
      " -2.39473238+0.j -2.01037642+0.j -1.9999042 +0.j -2.29214336+0.j\n",
      " -2.70755057+0.j -2.8610418 +0.j -2.09467095+0.j -2.35466781+0.j\n",
      " -2.60429816+0.j -2.43697577+0.j -1.99552739+0.j -2.29996563+0.j\n",
      " -2.3743456 +0.j -1.65749367+0.j -2.08602304+0.j -2.02614854+0.j\n",
      " -2.12884328+0.j -2.01856412+0.j -2.4209658 +0.j -2.09558311+0.j\n",
      " -2.50526032+0.j -2.27993335+0.j -0.27759535+0.j -0.13284947+0.j\n",
      " -0.02151509+0.j  0.1752566 +0.j  0.07335738+0.j  0.17942197+0.j\n",
      "  0.03273514+0.j -0.24949924+0.j -0.11881514+0.j  0.0946755 +0.j\n",
      "  0.01669875+0.j -0.04844923+0.j -0.12159722+0.j  0.17112856+0.j\n",
      " -0.37097054+0.j -0.30799414+0.j  0.23585101+0.j -0.218294  +0.j\n",
      "  0.38918   +0.j -0.12215489+0.j  0.3892256 +0.j -0.25963616+0.j\n",
      "  0.45862549+0.j  0.1042273 +0.j -0.22923736+0.j -0.22797071+0.j\n",
      "  0.03293831+0.j  0.26542418+0.j  0.14199642+0.j -0.49821743+0.j\n",
      " -0.1021226 +0.j -0.21818829+0.j -0.22612721+0.j  0.64851348+0.j\n",
      "  0.30540222+0.j -0.02816817+0.j -0.07194617+0.j  0.13701634+0.j\n",
      " -0.11626265+0.j  0.08476094+0.j  0.22340315+0.j  0.06588959+0.j\n",
      " -0.12088824+0.j -0.23902702+0.j  0.07947197+0.j -0.14712165+0.j\n",
      " -0.04579928+0.j -0.15968616+0.j -0.48819716+0.j -0.0605426 +0.j\n",
      "  1.31729088+0.j  0.88628831+0.j  0.89054022+0.j  0.86579582+0.j\n",
      "  1.09527724+0.j  1.13660021+0.j  0.81766845+0.j  0.93797779+0.j\n",
      "  1.027667  +0.j  0.92855812+0.j  0.4726945 +0.j  0.79761698+0.j\n",
      "  0.75490246+0.j  1.00764297+0.j  1.1214132 +0.j  0.79567602+0.j\n",
      "  0.69100564+0.j  0.85590768+0.j  1.57493843+0.j  0.75868692+0.j\n",
      "  0.86176257+0.j  0.84668395+0.j  1.19623686+0.j  0.53635347+0.j\n",
      "  0.77391687+0.j  0.65703648+0.j  0.4658901 +0.j  0.47016119+0.j\n",
      "  1.04449167+0.j  0.51540076+0.j  0.88454227+0.j  0.49423396+0.j\n",
      "  1.10056621+0.j  0.4428643 +0.j  0.84679233+0.j  0.91401797+0.j\n",
      "  0.97600394+0.j  0.68053342+0.j  0.44494565+0.j  0.61488789+0.j\n",
      "  0.97264501+0.j  0.54706354+0.j  0.88628831+0.j  1.01652046+0.j\n",
      "  0.99821504+0.j  0.72185372+0.j  0.74291481+0.j  0.6231813 +0.j\n",
      "  0.83472271+0.j  0.65969469+0.j]\n"
     ]
    },
    {
     "data": {
      "image/png": "[encoded data removed]",
      "text/plain": [
       "<Figure size 432x288 with 1 Axes>"
      ]
     },
     "metadata": {
      "needs_background": "light"
     },
     "output_type": "display_data"
    }
   ],
   "source": [
    "from matplotlib import pyplot as plt\n",
    "%matplotlib inline\n",
    "label_dict = {1: 'Setosa', 2: 'Versicolor', 3:'Virginica'}\n",
    "def plot_step_lda():\n",
    "    ax = plt.subplot(111)\n",
    "    for label,marker,color in zip(range(1,4),('^', 's', 'o'),('blue', 'red', 'green')):\n",
    "        print(X_lda[:,0])\n",
    "        plt.scatter(x=X_lda[:,0].real[y == label],\n",
    "                y=X_lda[:,1].real[y == label],\n",
    "                marker=marker,\n",
    "                color=color,\n",
    "                alpha=0.5,\n",
    "                label=label_dict[label]\n",
    "                )\n",
    "\n",
    "    plt.xlabel('LD1')\n",
    "    plt.ylabel('LD2')\n",
    "\n",
    "    leg = plt.legend(loc='upper right', fancybox=True)\n",
    "    leg.get_frame().set_alpha(0.5)\n",
    "    plt.title('LDA: Iris projection onto the first 2 linear discriminants')\n",
    "\n",
    "    # hide axis ticks\n",
    "    plt.tick_params(axis=\"both\", which=\"both\", bottom=\"off\", top=\"off\",  \n",
    "            labelbottom=\"on\", left=\"off\", right=\"off\", labelleft=\"on\")\n",
    "\n",
    "    # remove axis spines\n",
    "    ax.spines[\"top\"].set_visible(False)  \n",
    "    ax.spines[\"right\"].set_visible(False)\n",
    "    ax.spines[\"bottom\"].set_visible(False)\n",
    "    ax.spines[\"left\"].set_visible(False) \n",
    "    \n",
    "    plt.xlim(-5,5)\n",
    "\n",
    "    plt.grid()\n",
    "    plt.tight_layout\n",
    "    plt.show()\n",
    "\n",
    "plot_step_lda()"
   ]
  },
  {
   "cell_type": "code",
   "execution_count": null,
   "id": "1a8bf166",
   "metadata": {},
   "outputs": [],
   "source": []
  },
  {
   "cell_type": "code",
   "execution_count": null,
   "id": "f6d7ecb2",
   "metadata": {},
   "outputs": [],
   "source": []
  }
 ],
 "metadata": {
  "kernelspec": {
   "display_name": "Python 3",
   "language": "python",
   "name": "python3"
  },
  "language_info": {
   "codemirror_mode": {
    "name": "ipython",
    "version": 3
   },
   "file_extension": ".py",
   "mimetype": "text/x-python",
   "name": "python",
   "nbconvert_exporter": "python",
   "pygments_lexer": "ipython3",
   "version": "3.8.3"
  }
 },
 "nbformat": 4,
 "nbformat_minor": 5
}

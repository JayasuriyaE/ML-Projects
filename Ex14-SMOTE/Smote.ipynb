{
  "nbformat": 4,
  "nbformat_minor": 5,
  "metadata": {
    "kernelspec": {
      "display_name": "Python 3",
      "language": "python",
      "name": "python3"
    },
    "language_info": {
      "codemirror_mode": {
        "name": "ipython",
        "version": 3
      },
      "file_extension": ".py",
      "mimetype": "text/x-python",
      "name": "python",
      "nbconvert_exporter": "python",
      "pygments_lexer": "ipython3",
      "version": "3.8.3"
    },
    "colab": {
      "name": "Smote.ipynb",
      "provenance": []
    }
  },
  "cells": [
    {
      "cell_type": "code",
      "metadata": {
        "colab": {
          "resources": {
            "http://localhost:8080/nbextensions/google.colab/files.js": {
              "data": "Ly8gQ29weXJpZ2h0IDIwMTcgR29vZ2xlIExMQwovLwovLyBMaWNlbnNlZCB1bmRlciB0aGUgQXBhY2hlIExpY2Vuc2UsIFZlcnNpb24gMi4wICh0aGUgIkxpY2Vuc2UiKTsKLy8geW91IG1heSBub3QgdXNlIHRoaXMgZmlsZSBleGNlcHQgaW4gY29tcGxpYW5jZSB3aXRoIHRoZSBMaWNlbnNlLgovLyBZb3UgbWF5IG9idGFpbiBhIGNvcHkgb2YgdGhlIExpY2Vuc2UgYXQKLy8KLy8gICAgICBodHRwOi8vd3d3LmFwYWNoZS5vcmcvbGljZW5zZXMvTElDRU5TRS0yLjAKLy8KLy8gVW5sZXNzIHJlcXVpcmVkIGJ5IGFwcGxpY2FibGUgbGF3IG9yIGFncmVlZCB0byBpbiB3cml0aW5nLCBzb2Z0d2FyZQovLyBkaXN0cmlidXRlZCB1bmRlciB0aGUgTGljZW5zZSBpcyBkaXN0cmlidXRlZCBvbiBhbiAiQVMgSVMiIEJBU0lTLAovLyBXSVRIT1VUIFdBUlJBTlRJRVMgT1IgQ09ORElUSU9OUyBPRiBBTlkgS0lORCwgZWl0aGVyIGV4cHJlc3Mgb3IgaW1wbGllZC4KLy8gU2VlIHRoZSBMaWNlbnNlIGZvciB0aGUgc3BlY2lmaWMgbGFuZ3VhZ2UgZ292ZXJuaW5nIHBlcm1pc3Npb25zIGFuZAovLyBsaW1pdGF0aW9ucyB1bmRlciB0aGUgTGljZW5zZS4KCi8qKgogKiBAZmlsZW92ZXJ2aWV3IEhlbHBlcnMgZm9yIGdvb2dsZS5jb2xhYiBQeXRob24gbW9kdWxlLgogKi8KKGZ1bmN0aW9uKHNjb3BlKSB7CmZ1bmN0aW9uIHNwYW4odGV4dCwgc3R5bGVBdHRyaWJ1dGVzID0ge30pIHsKICBjb25zdCBlbGVtZW50ID0gZG9jdW1lbnQuY3JlYXRlRWxlbWVudCgnc3BhbicpOwogIGVsZW1lbnQudGV4dENvbnRlbnQgPSB0ZXh0OwogIGZvciAoY29uc3Qga2V5IG9mIE9iamVjdC5rZXlzKHN0eWxlQXR0cmlidXRlcykpIHsKICAgIGVsZW1lbnQuc3R5bGVba2V5XSA9IHN0eWxlQXR0cmlidXRlc1trZXldOwogIH0KICByZXR1cm4gZWxlbWVudDsKfQoKLy8gTWF4IG51bWJlciBvZiBieXRlcyB3aGljaCB3aWxsIGJlIHVwbG9hZGVkIGF0IGEgdGltZS4KY29uc3QgTUFYX1BBWUxPQURfU0laRSA9IDEwMCAqIDEwMjQ7CgpmdW5jdGlvbiBfdXBsb2FkRmlsZXMoaW5wdXRJZCwgb3V0cHV0SWQpIHsKICBjb25zdCBzdGVwcyA9IHVwbG9hZEZpbGVzU3RlcChpbnB1dElkLCBvdXRwdXRJZCk7CiAgY29uc3Qgb3V0cHV0RWxlbWVudCA9IGRvY3VtZW50LmdldEVsZW1lbnRCeUlkKG91dHB1dElkKTsKICAvLyBDYWNoZSBzdGVwcyBvbiB0aGUgb3V0cHV0RWxlbWVudCB0byBtYWtlIGl0IGF2YWlsYWJsZSBmb3IgdGhlIG5leHQgY2FsbAogIC8vIHRvIHVwbG9hZEZpbGVzQ29udGludWUgZnJvbSBQeXRob24uCiAgb3V0cHV0RWxlbWVudC5zdGVwcyA9IHN0ZXBzOwoKICByZXR1cm4gX3VwbG9hZEZpbGVzQ29udGludWUob3V0cHV0SWQpOwp9CgovLyBUaGlzIGlzIHJvdWdobHkgYW4gYXN5bmMgZ2VuZXJhdG9yIChub3Qgc3VwcG9ydGVkIGluIHRoZSBicm93c2VyIHlldCksCi8vIHdoZXJlIHRoZXJlIGFyZSBtdWx0aXBsZSBhc3luY2hyb25vdXMgc3RlcHMgYW5kIHRoZSBQeXRob24gc2lkZSBpcyBnb2luZwovLyB0byBwb2xsIGZvciBjb21wbGV0aW9uIG9mIGVhY2ggc3RlcC4KLy8gVGhpcyB1c2VzIGEgUHJvbWlzZSB0byBibG9jayB0aGUgcHl0aG9uIHNpZGUgb24gY29tcGxldGlvbiBvZiBlYWNoIHN0ZXAsCi8vIHRoZW4gcGFzc2VzIHRoZSByZXN1bHQgb2YgdGhlIHByZXZpb3VzIHN0ZXAgYXMgdGhlIGlucHV0IHRvIHRoZSBuZXh0IHN0ZXAuCmZ1bmN0aW9uIF91cGxvYWRGaWxlc0NvbnRpbnVlKG91dHB1dElkKSB7CiAgY29uc3Qgb3V0cHV0RWxlbWVudCA9IGRvY3VtZW50LmdldEVsZW1lbnRCeUlkKG91dHB1dElkKTsKICBjb25zdCBzdGVwcyA9IG91dHB1dEVsZW1lbnQuc3RlcHM7CgogIGNvbnN0IG5leHQgPSBzdGVwcy5uZXh0KG91dHB1dEVsZW1lbnQubGFzdFByb21pc2VWYWx1ZSk7CiAgcmV0dXJuIFByb21pc2UucmVzb2x2ZShuZXh0LnZhbHVlLnByb21pc2UpLnRoZW4oKHZhbHVlKSA9PiB7CiAgICAvLyBDYWNoZSB0aGUgbGFzdCBwcm9taXNlIHZhbHVlIHRvIG1ha2UgaXQgYXZhaWxhYmxlIHRvIHRoZSBuZXh0CiAgICAvLyBzdGVwIG9mIHRoZSBnZW5lcmF0b3IuCiAgICBvdXRwdXRFbGVtZW50Lmxhc3RQcm9taXNlVmFsdWUgPSB2YWx1ZTsKICAgIHJldHVybiBuZXh0LnZhbHVlLnJlc3BvbnNlOwogIH0pOwp9CgovKioKICogR2VuZXJhdG9yIGZ1bmN0aW9uIHdoaWNoIGlzIGNhbGxlZCBiZXR3ZWVuIGVhY2ggYXN5bmMgc3RlcCBvZiB0aGUgdXBsb2FkCiAqIHByb2Nlc3MuCiAqIEBwYXJhbSB7c3RyaW5nfSBpbnB1dElkIEVsZW1lbnQgSUQgb2YgdGhlIGlucHV0IGZpbGUgcGlja2VyIGVsZW1lbnQuCiAqIEBwYXJhbSB7c3RyaW5nfSBvdXRwdXRJZCBFbGVtZW50IElEIG9mIHRoZSBvdXRwdXQgZGlzcGxheS4KICogQHJldHVybiB7IUl0ZXJhYmxlPCFPYmplY3Q+fSBJdGVyYWJsZSBvZiBuZXh0IHN0ZXBzLgogKi8KZnVuY3Rpb24qIHVwbG9hZEZpbGVzU3RlcChpbnB1dElkLCBvdXRwdXRJZCkgewogIGNvbnN0IGlucHV0RWxlbWVudCA9IGRvY3VtZW50LmdldEVsZW1lbnRCeUlkKGlucHV0SWQpOwogIGlucHV0RWxlbWVudC5kaXNhYmxlZCA9IGZhbHNlOwoKICBjb25zdCBvdXRwdXRFbGVtZW50ID0gZG9jdW1lbnQuZ2V0RWxlbWVudEJ5SWQob3V0cHV0SWQpOwogIG91dHB1dEVsZW1lbnQuaW5uZXJIVE1MID0gJyc7CgogIGNvbnN0IHBpY2tlZFByb21pc2UgPSBuZXcgUHJvbWlzZSgocmVzb2x2ZSkgPT4gewogICAgaW5wdXRFbGVtZW50LmFkZEV2ZW50TGlzdGVuZXIoJ2NoYW5nZScsIChlKSA9PiB7CiAgICAgIHJlc29sdmUoZS50YXJnZXQuZmlsZXMpOwogICAgfSk7CiAgfSk7CgogIGNvbnN0IGNhbmNlbCA9IGRvY3VtZW50LmNyZWF0ZUVsZW1lbnQoJ2J1dHRvbicpOwogIGlucHV0RWxlbWVudC5wYXJlbnRFbGVtZW50LmFwcGVuZENoaWxkKGNhbmNlbCk7CiAgY2FuY2VsLnRleHRDb250ZW50ID0gJ0NhbmNlbCB1cGxvYWQnOwogIGNvbnN0IGNhbmNlbFByb21pc2UgPSBuZXcgUHJvbWlzZSgocmVzb2x2ZSkgPT4gewogICAgY2FuY2VsLm9uY2xpY2sgPSAoKSA9PiB7CiAgICAgIHJlc29sdmUobnVsbCk7CiAgICB9OwogIH0pOwoKICAvLyBXYWl0IGZvciB0aGUgdXNlciB0byBwaWNrIHRoZSBmaWxlcy4KICBjb25zdCBmaWxlcyA9IHlpZWxkIHsKICAgIHByb21pc2U6IFByb21pc2UucmFjZShbcGlja2VkUHJvbWlzZSwgY2FuY2VsUHJvbWlzZV0pLAogICAgcmVzcG9uc2U6IHsKICAgICAgYWN0aW9uOiAnc3RhcnRpbmcnLAogICAgfQogIH07CgogIGNhbmNlbC5yZW1vdmUoKTsKCiAgLy8gRGlzYWJsZSB0aGUgaW5wdXQgZWxlbWVudCBzaW5jZSBmdXJ0aGVyIHBpY2tzIGFyZSBub3QgYWxsb3dlZC4KICBpbnB1dEVsZW1lbnQuZGlzYWJsZWQgPSB0cnVlOwoKICBpZiAoIWZpbGVzKSB7CiAgICByZXR1cm4gewogICAgICByZXNwb25zZTogewogICAgICAgIGFjdGlvbjogJ2NvbXBsZXRlJywKICAgICAgfQogICAgfTsKICB9CgogIGZvciAoY29uc3QgZmlsZSBvZiBmaWxlcykgewogICAgY29uc3QgbGkgPSBkb2N1bWVudC5jcmVhdGVFbGVtZW50KCdsaScpOwogICAgbGkuYXBwZW5kKHNwYW4oZmlsZS5uYW1lLCB7Zm9udFdlaWdodDogJ2JvbGQnfSkpOwogICAgbGkuYXBwZW5kKHNwYW4oCiAgICAgICAgYCgke2ZpbGUudHlwZSB8fCAnbi9hJ30pIC0gJHtmaWxlLnNpemV9IGJ5dGVzLCBgICsKICAgICAgICBgbGFzdCBtb2RpZmllZDogJHsKICAgICAgICAgICAgZmlsZS5sYXN0TW9kaWZpZWREYXRlID8gZmlsZS5sYXN0TW9kaWZpZWREYXRlLnRvTG9jYWxlRGF0ZVN0cmluZygpIDoKICAgICAgICAgICAgICAgICAgICAgICAgICAgICAgICAgICAgJ24vYSd9IC0gYCkpOwogICAgY29uc3QgcGVyY2VudCA9IHNwYW4oJzAlIGRvbmUnKTsKICAgIGxpLmFwcGVuZENoaWxkKHBlcmNlbnQpOwoKICAgIG91dHB1dEVsZW1lbnQuYXBwZW5kQ2hpbGQobGkpOwoKICAgIGNvbnN0IGZpbGVEYXRhUHJvbWlzZSA9IG5ldyBQcm9taXNlKChyZXNvbHZlKSA9PiB7CiAgICAgIGNvbnN0IHJlYWRlciA9IG5ldyBGaWxlUmVhZGVyKCk7CiAgICAgIHJlYWRlci5vbmxvYWQgPSAoZSkgPT4gewogICAgICAgIHJlc29sdmUoZS50YXJnZXQucmVzdWx0KTsKICAgICAgfTsKICAgICAgcmVhZGVyLnJlYWRBc0FycmF5QnVmZmVyKGZpbGUpOwogICAgfSk7CiAgICAvLyBXYWl0IGZvciB0aGUgZGF0YSB0byBiZSByZWFkeS4KICAgIGxldCBmaWxlRGF0YSA9IHlpZWxkIHsKICAgICAgcHJvbWlzZTogZmlsZURhdGFQcm9taXNlLAogICAgICByZXNwb25zZTogewogICAgICAgIGFjdGlvbjogJ2NvbnRpbnVlJywKICAgICAgfQogICAgfTsKCiAgICAvLyBVc2UgYSBjaHVua2VkIHNlbmRpbmcgdG8gYXZvaWQgbWVzc2FnZSBzaXplIGxpbWl0cy4gU2VlIGIvNjIxMTU2NjAuCiAgICBsZXQgcG9zaXRpb24gPSAwOwogICAgZG8gewogICAgICBjb25zdCBsZW5ndGggPSBNYXRoLm1pbihmaWxlRGF0YS5ieXRlTGVuZ3RoIC0gcG9zaXRpb24sIE1BWF9QQVlMT0FEX1NJWkUpOwogICAgICBjb25zdCBjaHVuayA9IG5ldyBVaW50OEFycmF5KGZpbGVEYXRhLCBwb3NpdGlvbiwgbGVuZ3RoKTsKICAgICAgcG9zaXRpb24gKz0gbGVuZ3RoOwoKICAgICAgY29uc3QgYmFzZTY0ID0gYnRvYShTdHJpbmcuZnJvbUNoYXJDb2RlLmFwcGx5KG51bGwsIGNodW5rKSk7CiAgICAgIHlpZWxkIHsKICAgICAgICByZXNwb25zZTogewogICAgICAgICAgYWN0aW9uOiAnYXBwZW5kJywKICAgICAgICAgIGZpbGU6IGZpbGUubmFtZSwKICAgICAgICAgIGRhdGE6IGJhc2U2NCwKICAgICAgICB9LAogICAgICB9OwoKICAgICAgbGV0IHBlcmNlbnREb25lID0gZmlsZURhdGEuYnl0ZUxlbmd0aCA9PT0gMCA/CiAgICAgICAgICAxMDAgOgogICAgICAgICAgTWF0aC5yb3VuZCgocG9zaXRpb24gLyBmaWxlRGF0YS5ieXRlTGVuZ3RoKSAqIDEwMCk7CiAgICAgIHBlcmNlbnQudGV4dENvbnRlbnQgPSBgJHtwZXJjZW50RG9uZX0lIGRvbmVgOwoKICAgIH0gd2hpbGUgKHBvc2l0aW9uIDwgZmlsZURhdGEuYnl0ZUxlbmd0aCk7CiAgfQoKICAvLyBBbGwgZG9uZS4KICB5aWVsZCB7CiAgICByZXNwb25zZTogewogICAgICBhY3Rpb246ICdjb21wbGV0ZScsCiAgICB9CiAgfTsKfQoKc2NvcGUuZ29vZ2xlID0gc2NvcGUuZ29vZ2xlIHx8IHt9OwpzY29wZS5nb29nbGUuY29sYWIgPSBzY29wZS5nb29nbGUuY29sYWIgfHwge307CnNjb3BlLmdvb2dsZS5jb2xhYi5fZmlsZXMgPSB7CiAgX3VwbG9hZEZpbGVzLAogIF91cGxvYWRGaWxlc0NvbnRpbnVlLAp9Owp9KShzZWxmKTsK",
              "ok": true,
              "headers": [
                [
                  "content-type",
                  "application/javascript"
                ]
              ],
              "status": 200,
              "status_text": ""
            }
          },
          "base_uri": "https://localhost:8080/",
          "height": 73
        },
        "id": "jxHw2zqzOjKB",
        "outputId": "957d761a-11b0-4372-afa2-d68bff698f37"
      },
      "source": [
        "from google.colab import files\n",
        "files.upload()\n",
        "!pip install -q kaggle\n",
        "!mkdir -p ~/.kaggle\n",
        "!cp kaggle.json ~/.kaggle/\n",
        "!ls ~/.kaggle\n",
        "!chmod 600 /root/.kaggle/kaggle.json  # set permission"
      ],
      "id": "jxHw2zqzOjKB",
      "execution_count": 3,
      "outputs": [
        {
          "output_type": "display_data",
          "data": {
            "text/html": [
              "\n",
              "     <input type=\"file\" id=\"files-ceb018f2-0d94-447f-b9a8-48025d74fcf3\" name=\"files[]\" multiple disabled\n",
              "        style=\"border:none\" />\n",
              "     <output id=\"result-ceb018f2-0d94-447f-b9a8-48025d74fcf3\">\n",
              "      Upload widget is only available when the cell has been executed in the\n",
              "      current browser session. Please rerun this cell to enable.\n",
              "      </output>\n",
              "      <script src=\"/nbextensions/google.colab/files.js\"></script> "
            ],
            "text/plain": [
              "<IPython.core.display.HTML object>"
            ]
          },
          "metadata": {}
        },
        {
          "output_type": "stream",
          "name": "stdout",
          "text": [
            "Saving kaggle.json to kaggle (1).json\n",
            "kaggle.json\n"
          ]
        }
      ]
    },
    {
      "cell_type": "code",
      "metadata": {
        "id": "96162ef1"
      },
      "source": [
        "import numpy as np\n",
        "import pandas as pd\n",
        "import matplotlib.pyplot as plt\n",
        "import seaborn as sns\n",
        "from sklearn.decomposition import PCA\n",
        "from imblearn.over_sampling import SMOTE"
      ],
      "id": "96162ef1",
      "execution_count": 35,
      "outputs": []
    },
    {
      "cell_type": "code",
      "metadata": {
        "colab": {
          "base_uri": "https://localhost:8080/",
          "height": 223
        },
        "id": "WKwM47RsP8GC",
        "outputId": "fa493718-4a37-474e-fc9d-168b110a14f6"
      },
      "source": [
        "df = pd.read_csv('/content/creditcard.csv')\n",
        "df.sample(5)"
      ],
      "id": "WKwM47RsP8GC",
      "execution_count": 6,
      "outputs": [
        {
          "output_type": "execute_result",
          "data": {
            "text/html": [
              "<div>\n",
              "<style scoped>\n",
              "    .dataframe tbody tr th:only-of-type {\n",
              "        vertical-align: middle;\n",
              "    }\n",
              "\n",
              "    .dataframe tbody tr th {\n",
              "        vertical-align: top;\n",
              "    }\n",
              "\n",
              "    .dataframe thead th {\n",
              "        text-align: right;\n",
              "    }\n",
              "</style>\n",
              "<table border=\"1\" class=\"dataframe\">\n",
              "  <thead>\n",
              "    <tr style=\"text-align: right;\">\n",
              "      <th></th>\n",
              "      <th>Time</th>\n",
              "      <th>V1</th>\n",
              "      <th>V2</th>\n",
              "      <th>V3</th>\n",
              "      <th>V4</th>\n",
              "      <th>V5</th>\n",
              "      <th>V6</th>\n",
              "      <th>V7</th>\n",
              "      <th>V8</th>\n",
              "      <th>V9</th>\n",
              "      <th>V10</th>\n",
              "      <th>V11</th>\n",
              "      <th>V12</th>\n",
              "      <th>V13</th>\n",
              "      <th>V14</th>\n",
              "      <th>V15</th>\n",
              "      <th>V16</th>\n",
              "      <th>V17</th>\n",
              "      <th>V18</th>\n",
              "      <th>V19</th>\n",
              "      <th>V20</th>\n",
              "      <th>V21</th>\n",
              "      <th>V22</th>\n",
              "      <th>V23</th>\n",
              "      <th>V24</th>\n",
              "      <th>V25</th>\n",
              "      <th>V26</th>\n",
              "      <th>V27</th>\n",
              "      <th>V28</th>\n",
              "      <th>Amount</th>\n",
              "      <th>Class</th>\n",
              "    </tr>\n",
              "  </thead>\n",
              "  <tbody>\n",
              "    <tr>\n",
              "      <th>56885</th>\n",
              "      <td>47653</td>\n",
              "      <td>0.846286</td>\n",
              "      <td>-0.526173</td>\n",
              "      <td>0.067258</td>\n",
              "      <td>1.351525</td>\n",
              "      <td>-0.313241</td>\n",
              "      <td>0.319000</td>\n",
              "      <td>-0.009989</td>\n",
              "      <td>0.256176</td>\n",
              "      <td>0.421805</td>\n",
              "      <td>0.048153</td>\n",
              "      <td>0.437123</td>\n",
              "      <td>-0.238529</td>\n",
              "      <td>-2.680828</td>\n",
              "      <td>0.785101</td>\n",
              "      <td>-0.472273</td>\n",
              "      <td>-0.291909</td>\n",
              "      <td>0.044502</td>\n",
              "      <td>-0.032443</td>\n",
              "      <td>0.013178</td>\n",
              "      <td>-0.019829</td>\n",
              "      <td>-0.007825</td>\n",
              "      <td>-0.292977</td>\n",
              "      <td>-0.220249</td>\n",
              "      <td>-0.362076</td>\n",
              "      <td>0.533832</td>\n",
              "      <td>-0.317162</td>\n",
              "      <td>-0.009950</td>\n",
              "      <td>0.023667</td>\n",
              "      <td>161.91</td>\n",
              "      <td>0.0</td>\n",
              "    </tr>\n",
              "    <tr>\n",
              "      <th>43594</th>\n",
              "      <td>41571</td>\n",
              "      <td>0.745344</td>\n",
              "      <td>-1.226500</td>\n",
              "      <td>0.744034</td>\n",
              "      <td>0.254463</td>\n",
              "      <td>-1.302056</td>\n",
              "      <td>0.184528</td>\n",
              "      <td>-0.527869</td>\n",
              "      <td>0.222494</td>\n",
              "      <td>1.100956</td>\n",
              "      <td>-0.359096</td>\n",
              "      <td>0.434680</td>\n",
              "      <td>0.604464</td>\n",
              "      <td>-1.066941</td>\n",
              "      <td>-0.116309</td>\n",
              "      <td>-0.834504</td>\n",
              "      <td>0.251720</td>\n",
              "      <td>-0.158180</td>\n",
              "      <td>0.139837</td>\n",
              "      <td>0.812286</td>\n",
              "      <td>0.346113</td>\n",
              "      <td>-0.076170</td>\n",
              "      <td>-0.568781</td>\n",
              "      <td>-0.163088</td>\n",
              "      <td>0.073011</td>\n",
              "      <td>0.029665</td>\n",
              "      <td>0.923974</td>\n",
              "      <td>-0.088451</td>\n",
              "      <td>0.038803</td>\n",
              "      <td>239.14</td>\n",
              "      <td>0.0</td>\n",
              "    </tr>\n",
              "    <tr>\n",
              "      <th>23490</th>\n",
              "      <td>32782</td>\n",
              "      <td>-0.405225</td>\n",
              "      <td>-0.190637</td>\n",
              "      <td>0.970736</td>\n",
              "      <td>-2.242655</td>\n",
              "      <td>-1.342921</td>\n",
              "      <td>-0.744379</td>\n",
              "      <td>-0.376720</td>\n",
              "      <td>0.281106</td>\n",
              "      <td>-2.608324</td>\n",
              "      <td>0.527541</td>\n",
              "      <td>-0.168779</td>\n",
              "      <td>-0.154505</td>\n",
              "      <td>1.531995</td>\n",
              "      <td>-0.331825</td>\n",
              "      <td>-0.074465</td>\n",
              "      <td>-0.503965</td>\n",
              "      <td>0.705697</td>\n",
              "      <td>-0.607598</td>\n",
              "      <td>-1.405569</td>\n",
              "      <td>-0.364015</td>\n",
              "      <td>0.015640</td>\n",
              "      <td>0.246809</td>\n",
              "      <td>0.225142</td>\n",
              "      <td>0.395429</td>\n",
              "      <td>-0.308665</td>\n",
              "      <td>-0.418548</td>\n",
              "      <td>-0.051923</td>\n",
              "      <td>-0.017399</td>\n",
              "      <td>61.92</td>\n",
              "      <td>0.0</td>\n",
              "    </tr>\n",
              "    <tr>\n",
              "      <th>45754</th>\n",
              "      <td>42483</td>\n",
              "      <td>-1.205139</td>\n",
              "      <td>0.431932</td>\n",
              "      <td>2.404573</td>\n",
              "      <td>0.977382</td>\n",
              "      <td>0.533020</td>\n",
              "      <td>-0.237717</td>\n",
              "      <td>0.379045</td>\n",
              "      <td>0.195308</td>\n",
              "      <td>-0.768379</td>\n",
              "      <td>-0.414577</td>\n",
              "      <td>-0.600266</td>\n",
              "      <td>0.139547</td>\n",
              "      <td>-0.115642</td>\n",
              "      <td>-0.361208</td>\n",
              "      <td>-1.173757</td>\n",
              "      <td>-0.104466</td>\n",
              "      <td>0.146591</td>\n",
              "      <td>-1.203580</td>\n",
              "      <td>-1.295546</td>\n",
              "      <td>0.010405</td>\n",
              "      <td>0.032933</td>\n",
              "      <td>0.046753</td>\n",
              "      <td>-0.159384</td>\n",
              "      <td>0.469311</td>\n",
              "      <td>0.349029</td>\n",
              "      <td>0.933077</td>\n",
              "      <td>-0.050380</td>\n",
              "      <td>0.058022</td>\n",
              "      <td>19.95</td>\n",
              "      <td>0.0</td>\n",
              "    </tr>\n",
              "    <tr>\n",
              "      <th>41592</th>\n",
              "      <td>40749</td>\n",
              "      <td>1.036307</td>\n",
              "      <td>-1.447374</td>\n",
              "      <td>1.116090</td>\n",
              "      <td>-0.789358</td>\n",
              "      <td>-1.975657</td>\n",
              "      <td>-0.077370</td>\n",
              "      <td>-1.298335</td>\n",
              "      <td>0.207691</td>\n",
              "      <td>0.032136</td>\n",
              "      <td>0.505344</td>\n",
              "      <td>-0.564191</td>\n",
              "      <td>-0.826682</td>\n",
              "      <td>-0.838175</td>\n",
              "      <td>-0.091630</td>\n",
              "      <td>1.958939</td>\n",
              "      <td>-0.804062</td>\n",
              "      <td>0.052296</td>\n",
              "      <td>1.283751</td>\n",
              "      <td>-1.448952</td>\n",
              "      <td>-0.264295</td>\n",
              "      <td>-0.083517</td>\n",
              "      <td>-0.077080</td>\n",
              "      <td>0.019195</td>\n",
              "      <td>0.115564</td>\n",
              "      <td>-0.294173</td>\n",
              "      <td>1.514266</td>\n",
              "      <td>-0.049679</td>\n",
              "      <td>0.039272</td>\n",
              "      <td>146.81</td>\n",
              "      <td>0.0</td>\n",
              "    </tr>\n",
              "  </tbody>\n",
              "</table>\n",
              "</div>"
            ],
            "text/plain": [
              "        Time        V1        V2        V3  ...       V27       V28  Amount  Class\n",
              "56885  47653  0.846286 -0.526173  0.067258  ... -0.009950  0.023667  161.91    0.0\n",
              "43594  41571  0.745344 -1.226500  0.744034  ... -0.088451  0.038803  239.14    0.0\n",
              "23490  32782 -0.405225 -0.190637  0.970736  ... -0.051923 -0.017399   61.92    0.0\n",
              "45754  42483 -1.205139  0.431932  2.404573  ... -0.050380  0.058022   19.95    0.0\n",
              "41592  40749  1.036307 -1.447374  1.116090  ... -0.049679  0.039272  146.81    0.0\n",
              "\n",
              "[5 rows x 31 columns]"
            ]
          },
          "metadata": {},
          "execution_count": 6
        }
      ]
    },
    {
      "cell_type": "code",
      "metadata": {
        "colab": {
          "base_uri": "https://localhost:8080/"
        },
        "id": "GzOD88iEQHNU",
        "outputId": "9ba4db8f-1f53-4313-a313-7607e2bf948b"
      },
      "source": [
        "df['Class'].value_counts()"
      ],
      "id": "GzOD88iEQHNU",
      "execution_count": 7,
      "outputs": [
        {
          "output_type": "execute_result",
          "data": {
            "text/plain": [
              "0.0    59348\n",
              "1.0      162\n",
              "Name: Class, dtype: int64"
            ]
          },
          "metadata": {},
          "execution_count": 7
        }
      ]
    },
    {
      "cell_type": "code",
      "metadata": {
        "colab": {
          "base_uri": "https://localhost:8080/",
          "height": 282
        },
        "id": "CmL0TLnqQPIy",
        "outputId": "287c9bb1-f237-4f13-bc82-3127758e7bac"
      },
      "source": [
        "plt.scatter(df['V1'],df['Class'])"
      ],
      "id": "CmL0TLnqQPIy",
      "execution_count": 8,
      "outputs": [
        {
          "output_type": "execute_result",
          "data": {
            "text/plain": [
              "<matplotlib.collections.PathCollection at 0x7fa4a10c4cd0>"
            ]
          },
          "metadata": {},
          "execution_count": 8
        },
        {
          "output_type": "display_data",
          "data": {
            "image/png": "[encoded data removed]",
            "text/plain": [
              "<Figure size 432x288 with 1 Axes>"
            ]
          },
          "metadata": {
            "needs_background": "light"
          }
        }
      ]
    },
    {
      "cell_type": "code",
      "metadata": {
        "id": "xuhsd-BvRpvJ"
      },
      "source": [
        "df.dropna(inplace=True)"
      ],
      "id": "xuhsd-BvRpvJ",
      "execution_count": 13,
      "outputs": []
    },
    {
      "cell_type": "code",
      "metadata": {
        "id": "_ji4E7BpTAPl"
      },
      "source": [
        "X = df.drop(columns = ['Class','Time'])\n",
        "y = df['Class']"
      ],
      "id": "_ji4E7BpTAPl",
      "execution_count": 33,
      "outputs": []
    },
    {
      "cell_type": "code",
      "metadata": {
        "id": "XBblFZDpU7rG"
      },
      "source": [
        "from sklearn.preprocessing import StandardScaler\n",
        "scale = StandardScaler()\n",
        "X_scaled  = scale.fit_transform(X)"
      ],
      "id": "XBblFZDpU7rG",
      "execution_count": 34,
      "outputs": []
    },
    {
      "cell_type": "code",
      "metadata": {
        "colab": {
          "base_uri": "https://localhost:8080/"
        },
        "id": "9M7YLhTuWMw2",
        "outputId": "e23f774b-d0fc-4332-c38f-33be7511375e"
      },
      "source": [
        "oversample = SMOTE()\n",
        "X_scaled , y = oversample.fit_resample(X_scaled, y) "
      ],
      "id": "9M7YLhTuWMw2",
      "execution_count": 36,
      "outputs": [
        {
          "output_type": "stream",
          "name": "stderr",
          "text": [
            "/usr/local/lib/python3.7/dist-packages/sklearn/utils/deprecation.py:87: FutureWarning: Function safe_indexing is deprecated; safe_indexing is deprecated in version 0.22 and will be removed in version 0.24.\n",
            "  warnings.warn(msg, category=FutureWarning)\n"
          ]
        }
      ]
    },
    {
      "cell_type": "code",
      "metadata": {
        "colab": {
          "base_uri": "https://localhost:8080/",
          "height": 428
        },
        "id": "IIs3G5q-Wpfy",
        "outputId": "4c580c45-c9d4-4295-b935-fd10023680b9"
      },
      "source": [
        "sns.countplot(y)\n",
        "plt.show()"
      ],
      "id": "IIs3G5q-Wpfy",
      "execution_count": 37,
      "outputs": [
        {
          "output_type": "stream",
          "name": "stderr",
          "text": [
            "/usr/local/lib/python3.7/dist-packages/seaborn/_decorators.py:43: FutureWarning: Pass the following variable as a keyword arg: x. From version 0.12, the only valid positional argument will be `data`, and passing other arguments without an explicit keyword will result in an error or misinterpretation.\n",
            "  FutureWarning\n"
          ]
        },
        {
          "output_type": "display_data",
          "data": {
            "image/png": "[encoded data removed]",
            "text/plain": [
              "<Figure size 864x432 with 1 Axes>"
            ]
          },
          "metadata": {
            "needs_background": "light"
          }
        }
      ]
    },
    {
      "cell_type": "code",
      "metadata": {
        "colab": {
          "base_uri": "https://localhost:8080/"
        },
        "id": "pLqZJ8VcQrTc",
        "outputId": "83324c46-1247-4a4b-d29a-a4e7089b4735"
      },
      "source": [
        "pca = PCA(0.95)\n",
        "covarience = pca.fit(X_scaled) \n",
        "np.cumsum(covarience.explained_variance_ratio_)"
      ],
      "id": "pLqZJ8VcQrTc",
      "execution_count": 39,
      "outputs": [
        {
          "output_type": "execute_result",
          "data": {
            "text/plain": [
              "array([0.74469611, 0.84713257, 0.89947218, 0.92050185, 0.9336214 ,\n",
              "       0.94212023, 0.94853034, 0.95328278])"
            ]
          },
          "metadata": {},
          "execution_count": 39
        }
      ]
    },
    {
      "cell_type": "code",
      "metadata": {
        "id": "K39pA5bHW3uo"
      },
      "source": [
        "pca1 = PCA(7)\n",
        "X_decomposed = pca1.fit_transform(X_scaled)"
      ],
      "id": "K39pA5bHW3uo",
      "execution_count": 40,
      "outputs": []
    },
    {
      "cell_type": "code",
      "metadata": {
        "id": "zzM-i4D7X3-_"
      },
      "source": [
        "from  sklearn.model_selection import train_test_split\n",
        "X_train, X_test, y_train, y_test = train_test_split(X_decomposed, y, train_size = 80/100, random_state = 100) "
      ],
      "id": "zzM-i4D7X3-_",
      "execution_count": 43,
      "outputs": []
    },
    {
      "cell_type": "code",
      "metadata": {
        "id": "vmZjwXXtYhue"
      },
      "source": [
        "from sklearn.linear_model import LogisticRegression\n",
        "from sklearn.svm import SVC\n",
        "from sklearn.neighbors import KNeighborsClassifier\n",
        "from sklearn.model_selection import GridSearchCV, train_test_split\n",
        "from sklearn.metrics import accuracy_score, confusion_matrix, classification_report"
      ],
      "id": "vmZjwXXtYhue",
      "execution_count": 44,
      "outputs": []
    },
    {
      "cell_type": "code",
      "metadata": {
        "id": "HfSEBemSYygt"
      },
      "source": [
        "#@title OUTPUT\n",
        "svc = SVC()\n",
        "lg = LogisticRegression() \n",
        "knn = KNeighborsClassifier(2)\n",
        "# k_range = list(range(2,15))\n",
        "# param_grid = dict(n_neighbors = k_range)\n",
        "# grid = GridSearchCV(knn, param_grid, cv =10, scoring = 'accuracy')\n",
        "# grid_search = grid.fit(X_train, y_train)\n"
      ],
      "id": "HfSEBemSYygt",
      "execution_count": 47,
      "outputs": []
    },
    {
      "cell_type": "code",
      "metadata": {
        "colab": {
          "base_uri": "https://localhost:8080/",
          "height": 142
        },
        "id": "keehPQ-yZS-2",
        "outputId": "447cbd97-1d3f-4a85-f4ac-181d55616fca"
      },
      "source": [
        "svc.fit(X_train, y_train)\n",
        "lg.fit(X_train, y_train)\n",
        "knn.fit(X_train, y_train)\n",
        "output = pd.DataFrame(data = [\n",
        "                              [f'{round(accuracy_score(svc.predict(X_test), y_test)*100,2)} %'],\n",
        "                               [f'{round(accuracy_score(lg.predict(X_test), y_test)*100,2)} %'],\n",
        "                               [f'{round(accuracy_score(knn.predict(X_test), y_test)*100,2)} %']\n",
        "                              ], index = ['SVM','Logistic','KNN'],columns = ['Accuracy'])\n",
        "output"
      ],
      "id": "keehPQ-yZS-2",
      "execution_count": 48,
      "outputs": [
        {
          "output_type": "execute_result",
          "data": {
            "text/html": [
              "<div>\n",
              "<style scoped>\n",
              "    .dataframe tbody tr th:only-of-type {\n",
              "        vertical-align: middle;\n",
              "    }\n",
              "\n",
              "    .dataframe tbody tr th {\n",
              "        vertical-align: top;\n",
              "    }\n",
              "\n",
              "    .dataframe thead th {\n",
              "        text-align: right;\n",
              "    }\n",
              "</style>\n",
              "<table border=\"1\" class=\"dataframe\">\n",
              "  <thead>\n",
              "    <tr style=\"text-align: right;\">\n",
              "      <th></th>\n",
              "      <th>Accuracy</th>\n",
              "    </tr>\n",
              "  </thead>\n",
              "  <tbody>\n",
              "    <tr>\n",
              "      <th>SVM</th>\n",
              "      <td>97.22 %</td>\n",
              "    </tr>\n",
              "    <tr>\n",
              "      <th>Logistic</th>\n",
              "      <td>95.8 %</td>\n",
              "    </tr>\n",
              "    <tr>\n",
              "      <th>KNN</th>\n",
              "      <td>99.86 %</td>\n",
              "    </tr>\n",
              "  </tbody>\n",
              "</table>\n",
              "</div>"
            ],
            "text/plain": [
              "         Accuracy\n",
              "SVM       97.22 %\n",
              "Logistic   95.8 %\n",
              "KNN       99.86 %"
            ]
          },
          "metadata": {},
          "execution_count": 48
        }
      ]
    },
    {
      "cell_type": "code",
      "metadata": {
        "colab": {
          "base_uri": "https://localhost:8080/",
          "height": 390
        },
        "id": "tOJTOYK9buDc",
        "outputId": "90014e1c-8238-4e1b-cd98-75da0cb635d4"
      },
      "source": [
        "sns.heatmap(confusion_matrix(svc.predict(X_test), y_test),annot= True,fmt = 'd')\n",
        "plt.title('SVM')\n",
        "plt.show()"
      ],
      "id": "tOJTOYK9buDc",
      "execution_count": 53,
      "outputs": [
        {
          "output_type": "display_data",
          "data": {
            "image/png": "[encoded data removed]",
            "text/plain": [
              "<Figure size 864x432 with 2 Axes>"
            ]
          },
          "metadata": {
            "needs_background": "light"
          }
        }
      ]
    },
    {
      "cell_type": "code",
      "metadata": {
        "colab": {
          "base_uri": "https://localhost:8080/",
          "height": 390
        },
        "id": "7yCe7YXKbkge",
        "outputId": "b9a0aa51-0039-46f4-c245-d4748c451487"
      },
      "source": [
        "sns.heatmap(confusion_matrix(lg.predict(X_test), y_test),annot= True,fmt = 'd')\n",
        "plt.title('LOGISTIC REGRESSION')\n",
        "plt.show()"
      ],
      "id": "7yCe7YXKbkge",
      "execution_count": 52,
      "outputs": [
        {
          "output_type": "display_data",
          "data": {
            "image/png": "[encoded data removed]",
            "text/plain": [
              "<Figure size 864x432 with 2 Axes>"
            ]
          },
          "metadata": {
            "needs_background": "light"
          }
        }
      ]
    },
    {
      "cell_type": "code",
      "metadata": {
        "id": "zKnuEV8uaRAp"
      },
      "source": [
        "scale_x = StandardScaler()\n",
        "X_scale = scale_x.fit_transform(X) \n",
        "Xtrain, Xtest, ytrain, ytest = train_test_split(X_scale, df['Class'], train_size = 80/100, random_state = 50) "
      ],
      "id": "zKnuEV8uaRAp",
      "execution_count": 49,
      "outputs": []
    },
    {
      "cell_type": "code",
      "metadata": {
        "colab": {
          "base_uri": "https://localhost:8080/",
          "height": 245
        },
        "id": "63Yc40iMarGO",
        "outputId": "ab7c4690-c431-44d8-aca6-19ffec153cfb"
      },
      "source": [
        "svc1 = SVC()\n",
        "lg1 = LogisticRegression()\n",
        "svc1.fit(Xtrain, ytrain)\n",
        "lg1.fit(Xtrain, ytrain)\n",
        "output = pd.DataFrame(data = [\n",
        "                              [f'{round(accuracy_score(svc1.predict(Xtest), ytest)*100,2)} %'],\n",
        "                               [f'{round(accuracy_score(lg1.predict(Xtest), ytest)*100,2)} %']\n",
        "                              ], index = ['SVM','Logistic'],columns = ['Accuracy'])\n",
        "output"
      ],
      "id": "63Yc40iMarGO",
      "execution_count": 50,
      "outputs": [
        {
          "output_type": "stream",
          "name": "stderr",
          "text": [
            "/usr/local/lib/python3.7/dist-packages/sklearn/linear_model/_logistic.py:940: ConvergenceWarning: lbfgs failed to converge (status=1):\n",
            "STOP: TOTAL NO. of ITERATIONS REACHED LIMIT.\n",
            "\n",
            "Increase the number of iterations (max_iter) or scale the data as shown in:\n",
            "    https://scikit-learn.org/stable/modules/preprocessing.html\n",
            "Please also refer to the documentation for alternative solver options:\n",
            "    https://scikit-learn.org/stable/modules/linear_model.html#logistic-regression\n",
            "  extra_warning_msg=_LOGISTIC_SOLVER_CONVERGENCE_MSG)\n"
          ]
        },
        {
          "output_type": "execute_result",
          "data": {
            "text/html": [
              "<div>\n",
              "<style scoped>\n",
              "    .dataframe tbody tr th:only-of-type {\n",
              "        vertical-align: middle;\n",
              "    }\n",
              "\n",
              "    .dataframe tbody tr th {\n",
              "        vertical-align: top;\n",
              "    }\n",
              "\n",
              "    .dataframe thead th {\n",
              "        text-align: right;\n",
              "    }\n",
              "</style>\n",
              "<table border=\"1\" class=\"dataframe\">\n",
              "  <thead>\n",
              "    <tr style=\"text-align: right;\">\n",
              "      <th></th>\n",
              "      <th>Accuracy</th>\n",
              "    </tr>\n",
              "  </thead>\n",
              "  <tbody>\n",
              "    <tr>\n",
              "      <th>SVM</th>\n",
              "      <td>99.93 %</td>\n",
              "    </tr>\n",
              "    <tr>\n",
              "      <th>Logistic</th>\n",
              "      <td>99.85 %</td>\n",
              "    </tr>\n",
              "  </tbody>\n",
              "</table>\n",
              "</div>"
            ],
            "text/plain": [
              "         Accuracy\n",
              "SVM       99.93 %\n",
              "Logistic  99.85 %"
            ]
          },
          "metadata": {},
          "execution_count": 50
        }
      ]
    },
    {
      "cell_type": "code",
      "metadata": {
        "colab": {
          "base_uri": "https://localhost:8080/",
          "height": 390
        },
        "id": "l4stpggUbQ3t",
        "outputId": "b6e1d3dc-057d-4854-c2c3-124fc86f7f02"
      },
      "source": [
        "sns.heatmap(confusion_matrix(lg1.predict(Xtest), ytest),annot= True,fmt = 'd')\n",
        "plt.title('LOGISTIC REGRESSION')\n",
        "plt.show()"
      ],
      "id": "l4stpggUbQ3t",
      "execution_count": 51,
      "outputs": [
        {
          "output_type": "display_data",
          "data": {
            "image/png": "[encoded data removed]",
            "text/plain": [
              "<Figure size 864x432 with 2 Axes>"
            ]
          },
          "metadata": {
            "needs_background": "light"
          }
        }
      ]
    },
    {
      "cell_type": "code",
      "metadata": {
        "colab": {
          "base_uri": "https://localhost:8080/",
          "height": 390
        },
        "id": "DOWcwa0Wbx-w",
        "outputId": "3e566d85-e330-4732-c408-db838040846b"
      },
      "source": [
        "sns.heatmap(confusion_matrix(svc1.predict(Xtest), ytest),annot= True,fmt = 'd')\n",
        "plt.title('SVM')\n",
        "plt.show()"
      ],
      "id": "DOWcwa0Wbx-w",
      "execution_count": 54,
      "outputs": [
        {
          "output_type": "display_data",
          "data": {
            "image/png": "[encoded data removed]",
            "text/plain": [
              "<Figure size 864x432 with 2 Axes>"
            ]
          },
          "metadata": {
            "needs_background": "light"
          }
        }
      ]
    }
  ]
}